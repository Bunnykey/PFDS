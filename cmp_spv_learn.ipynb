{
  "nbformat": 4,
  "nbformat_minor": 0,
  "metadata": {
    "colab": {
      "name": "cmp-spv-learn.ipynb",
      "provenance": [],
      "collapsed_sections": [],
      "authorship_tag": "ABX9TyOQjFHiZkJocqi+VVMUoeLS",
      "include_colab_link": true
    },
    "kernelspec": {
      "name": "python3",
      "display_name": "Python 3"
    }
  },
  "cells": [
    {
      "cell_type": "markdown",
      "metadata": {
        "id": "view-in-github",
        "colab_type": "text"
      },
      "source": [
        "<a href=\"https://colab.research.google.com/github/Bunnykey/PFDS/blob/master/cmp_spv_learn.ipynb\" target=\"_parent\"><img src=\"https://colab.research.google.com/assets/colab-badge.svg\" alt=\"Open In Colab\"/></a>"
      ]
    },
    {
      "cell_type": "code",
      "metadata": {
        "id": "wNDvM7C4f66y"
      },
      "source": [
        "import numpy as np\n",
        "import pandas as pd\n",
        "import matplotlib.pyplot as plt\n",
        "import sklearn\n",
        "from sklearn.datasets import load_digits"
      ],
      "execution_count": 1,
      "outputs": []
    },
    {
      "cell_type": "code",
      "metadata": {
        "id": "EPpym-IGgnY0",
        "outputId": "64341533-b939-4e53-a14b-fbd5b1f9a82a",
        "colab": {
          "base_uri": "https://localhost:8080/",
          "height": 35
        }
      },
      "source": [
        "X,y = load_digits(return_X_y = True)\n",
        "digit = load_digits()\n",
        "digit.keys()"
      ],
      "execution_count": 2,
      "outputs": [
        {
          "output_type": "execute_result",
          "data": {
            "text/plain": [
              "dict_keys(['data', 'target', 'target_names', 'images', 'DESCR'])"
            ]
          },
          "metadata": {
            "tags": []
          },
          "execution_count": 2
        }
      ]
    },
    {
      "cell_type": "code",
      "metadata": {
        "id": "c4JMrWAJg1gz",
        "outputId": "0d0ee6b8-f3cf-484e-8492-9544b60d09b1",
        "colab": {
          "base_uri": "https://localhost:8080/",
          "height": 35
        }
      },
      "source": [
        "digit.target_names"
      ],
      "execution_count": 3,
      "outputs": [
        {
          "output_type": "execute_result",
          "data": {
            "text/plain": [
              "array([0, 1, 2, 3, 4, 5, 6, 7, 8, 9])"
            ]
          },
          "metadata": {
            "tags": []
          },
          "execution_count": 3
        }
      ]
    },
    {
      "cell_type": "code",
      "metadata": {
        "id": "GyY_b50ijp36",
        "outputId": "6cdf48e5-1f7a-47ab-9508-2724aa4950db",
        "colab": {
          "base_uri": "https://localhost:8080/",
          "height": 845
        }
      },
      "source": [
        "print(digit.DESCR)"
      ],
      "execution_count": 4,
      "outputs": [
        {
          "output_type": "stream",
          "text": [
            ".. _digits_dataset:\n",
            "\n",
            "Optical recognition of handwritten digits dataset\n",
            "--------------------------------------------------\n",
            "\n",
            "**Data Set Characteristics:**\n",
            "\n",
            "    :Number of Instances: 5620\n",
            "    :Number of Attributes: 64\n",
            "    :Attribute Information: 8x8 image of integer pixels in the range 0..16.\n",
            "    :Missing Attribute Values: None\n",
            "    :Creator: E. Alpaydin (alpaydin '@' boun.edu.tr)\n",
            "    :Date: July; 1998\n",
            "\n",
            "This is a copy of the test set of the UCI ML hand-written digits datasets\n",
            "https://archive.ics.uci.edu/ml/datasets/Optical+Recognition+of+Handwritten+Digits\n",
            "\n",
            "The data set contains images of hand-written digits: 10 classes where\n",
            "each class refers to a digit.\n",
            "\n",
            "Preprocessing programs made available by NIST were used to extract\n",
            "normalized bitmaps of handwritten digits from a preprinted form. From a\n",
            "total of 43 people, 30 contributed to the training set and different 13\n",
            "to the test set. 32x32 bitmaps are divided into nonoverlapping blocks of\n",
            "4x4 and the number of on pixels are counted in each block. This generates\n",
            "an input matrix of 8x8 where each element is an integer in the range\n",
            "0..16. This reduces dimensionality and gives invariance to small\n",
            "distortions.\n",
            "\n",
            "For info on NIST preprocessing routines, see M. D. Garris, J. L. Blue, G.\n",
            "T. Candela, D. L. Dimmick, J. Geist, P. J. Grother, S. A. Janet, and C.\n",
            "L. Wilson, NIST Form-Based Handprint Recognition System, NISTIR 5469,\n",
            "1994.\n",
            "\n",
            ".. topic:: References\n",
            "\n",
            "  - C. Kaynak (1995) Methods of Combining Multiple Classifiers and Their\n",
            "    Applications to Handwritten Digit Recognition, MSc Thesis, Institute of\n",
            "    Graduate Studies in Science and Engineering, Bogazici University.\n",
            "  - E. Alpaydin, C. Kaynak (1998) Cascading Classifiers, Kybernetika.\n",
            "  - Ken Tang and Ponnuthurai N. Suganthan and Xi Yao and A. Kai Qin.\n",
            "    Linear dimensionalityreduction using relevance weighted LDA. School of\n",
            "    Electrical and Electronic Engineering Nanyang Technological University.\n",
            "    2005.\n",
            "  - Claudio Gentile. A New Approximate Maximal Margin Classification\n",
            "    Algorithm. NIPS. 2000.\n"
          ],
          "name": "stdout"
        }
      ]
    },
    {
      "cell_type": "markdown",
      "metadata": {
        "id": "DCfDoVLVjhi7"
      },
      "source": [
        "Maybe digit supervised (labeled) classification?"
      ]
    },
    {
      "cell_type": "code",
      "metadata": {
        "id": "5x6FzIPMnhgl",
        "outputId": "fec0ffdb-5424-4864-bd3b-8723ecbb49d8",
        "colab": {
          "base_uri": "https://localhost:8080/",
          "height": 35
        }
      },
      "source": [
        "digit.target"
      ],
      "execution_count": 5,
      "outputs": [
        {
          "output_type": "execute_result",
          "data": {
            "text/plain": [
              "array([0, 1, 2, ..., 8, 9, 8])"
            ]
          },
          "metadata": {
            "tags": []
          },
          "execution_count": 5
        }
      ]
    },
    {
      "cell_type": "code",
      "metadata": {
        "id": "OaK66ZNBnpfd"
      },
      "source": [
        "#X = digit.data\n",
        "#y = digit.target\n",
        "#X, y"
      ],
      "execution_count": 6,
      "outputs": []
    },
    {
      "cell_type": "code",
      "metadata": {
        "id": "cG7IJb5hqlLy"
      },
      "source": [
        "from sklearn.model_selection import train_test_split\n",
        "\n",
        "X_train, X_test, y_train, y_test = train_test_split(X, y, test_size = 0.3, random_state = 42)"
      ],
      "execution_count": 7,
      "outputs": []
    },
    {
      "cell_type": "code",
      "metadata": {
        "id": "5bBbytkLrDh_",
        "outputId": "301d9ed6-6b5d-49b9-e902-d057561a0c7b",
        "colab": {
          "base_uri": "https://localhost:8080/",
          "height": 35
        }
      },
      "source": [
        "from sklearn.preprocessing import StandardScaler\n",
        "from sklearn.neighbors import KNeighborsClassifier\n",
        "from sklearn.pipeline import Pipeline\n",
        "from sklearn.linear_model import LinearRegression, LogisticRegression\n",
        "from sklearn.tree import DecisionTreeClassifier\n",
        "from sklearn.ensemble import RandomForestClassifier\n",
        "\n",
        "scaler = StandardScaler()\n",
        "scaler.fit(X_train, y_train)"
      ],
      "execution_count": 8,
      "outputs": [
        {
          "output_type": "execute_result",
          "data": {
            "text/plain": [
              "StandardScaler(copy=True, with_mean=True, with_std=True)"
            ]
          },
          "metadata": {
            "tags": []
          },
          "execution_count": 8
        }
      ]
    },
    {
      "cell_type": "markdown",
      "metadata": {
        "id": "2DU2r18dQKDZ"
      },
      "source": [
        "# Hyperparameters\n",
        "Decision Tree : min_samples_leaf, max_depth\n",
        "K-nearest neighbors : n_neighbors\n",
        "Random Forests : n_estimators, max_features"
      ]
    },
    {
      "cell_type": "code",
      "metadata": {
        "id": "1zlS-zplVbPd",
        "outputId": "42d0c3ed-6ca0-4f38-aef2-2bbdbcecf653",
        "colab": {
          "base_uri": "https://localhost:8080/",
          "height": 638
        }
      },
      "source": [
        "# self descriptive code\n",
        "from sklearn.metrics import accuracy_score\n",
        "\n",
        "training_accuracy = []\n",
        "test_accuracy = []\n",
        "leaf_settings = range(1,20)\n",
        "\n",
        "for leaf in leaf_settings:\n",
        "  treeModel = DecisionTreeClassifier(min_samples_leaf=leaf, random_state=0)\n",
        "  treeModel.fit(X_train, y_train)\n",
        "  y_train_hat = treeModel.predict(X_train)\n",
        "  training_accuracy.append(accuracy_score(y_train, y_train_hat))\n",
        "  y_test_hat = treeModel.predict(X_test)\n",
        "  test_accuracy.append(accuracy_score(y_test, y_test_hat))\n",
        "\n",
        "leaf_accuracy_check = pd.DataFrame(list(zip(leaf_settings, training_accuracy, test_accuracy)),\n",
        "                                   columns = ['min_samples_leaf', 'training_accuracy', 'test_accuracy'])\n",
        "\n",
        "leaf_accuracy_check"
      ],
      "execution_count": 9,
      "outputs": [
        {
          "output_type": "execute_result",
          "data": {
            "text/html": [
              "<div>\n",
              "<style scoped>\n",
              "    .dataframe tbody tr th:only-of-type {\n",
              "        vertical-align: middle;\n",
              "    }\n",
              "\n",
              "    .dataframe tbody tr th {\n",
              "        vertical-align: top;\n",
              "    }\n",
              "\n",
              "    .dataframe thead th {\n",
              "        text-align: right;\n",
              "    }\n",
              "</style>\n",
              "<table border=\"1\" class=\"dataframe\">\n",
              "  <thead>\n",
              "    <tr style=\"text-align: right;\">\n",
              "      <th></th>\n",
              "      <th>min_samples_leaf</th>\n",
              "      <th>training_accuracy</th>\n",
              "      <th>test_accuracy</th>\n",
              "    </tr>\n",
              "  </thead>\n",
              "  <tbody>\n",
              "    <tr>\n",
              "      <th>0</th>\n",
              "      <td>1</td>\n",
              "      <td>1.000000</td>\n",
              "      <td>0.851852</td>\n",
              "    </tr>\n",
              "    <tr>\n",
              "      <th>1</th>\n",
              "      <td>2</td>\n",
              "      <td>0.964996</td>\n",
              "      <td>0.829630</td>\n",
              "    </tr>\n",
              "    <tr>\n",
              "      <th>2</th>\n",
              "      <td>3</td>\n",
              "      <td>0.947494</td>\n",
              "      <td>0.857407</td>\n",
              "    </tr>\n",
              "    <tr>\n",
              "      <th>3</th>\n",
              "      <td>4</td>\n",
              "      <td>0.928401</td>\n",
              "      <td>0.859259</td>\n",
              "    </tr>\n",
              "    <tr>\n",
              "      <th>4</th>\n",
              "      <td>5</td>\n",
              "      <td>0.914081</td>\n",
              "      <td>0.846296</td>\n",
              "    </tr>\n",
              "    <tr>\n",
              "      <th>5</th>\n",
              "      <td>6</td>\n",
              "      <td>0.902944</td>\n",
              "      <td>0.837037</td>\n",
              "    </tr>\n",
              "    <tr>\n",
              "      <th>6</th>\n",
              "      <td>7</td>\n",
              "      <td>0.890215</td>\n",
              "      <td>0.825926</td>\n",
              "    </tr>\n",
              "    <tr>\n",
              "      <th>7</th>\n",
              "      <td>8</td>\n",
              "      <td>0.883850</td>\n",
              "      <td>0.825926</td>\n",
              "    </tr>\n",
              "    <tr>\n",
              "      <th>8</th>\n",
              "      <td>9</td>\n",
              "      <td>0.872713</td>\n",
              "      <td>0.811111</td>\n",
              "    </tr>\n",
              "    <tr>\n",
              "      <th>9</th>\n",
              "      <td>10</td>\n",
              "      <td>0.871122</td>\n",
              "      <td>0.811111</td>\n",
              "    </tr>\n",
              "    <tr>\n",
              "      <th>10</th>\n",
              "      <td>11</td>\n",
              "      <td>0.869531</td>\n",
              "      <td>0.814815</td>\n",
              "    </tr>\n",
              "    <tr>\n",
              "      <th>11</th>\n",
              "      <td>12</td>\n",
              "      <td>0.867144</td>\n",
              "      <td>0.816667</td>\n",
              "    </tr>\n",
              "    <tr>\n",
              "      <th>12</th>\n",
              "      <td>13</td>\n",
              "      <td>0.862371</td>\n",
              "      <td>0.811111</td>\n",
              "    </tr>\n",
              "    <tr>\n",
              "      <th>13</th>\n",
              "      <td>14</td>\n",
              "      <td>0.859189</td>\n",
              "      <td>0.811111</td>\n",
              "    </tr>\n",
              "    <tr>\n",
              "      <th>14</th>\n",
              "      <td>15</td>\n",
              "      <td>0.851233</td>\n",
              "      <td>0.820370</td>\n",
              "    </tr>\n",
              "    <tr>\n",
              "      <th>15</th>\n",
              "      <td>16</td>\n",
              "      <td>0.847255</td>\n",
              "      <td>0.800000</td>\n",
              "    </tr>\n",
              "    <tr>\n",
              "      <th>16</th>\n",
              "      <td>17</td>\n",
              "      <td>0.841687</td>\n",
              "      <td>0.792593</td>\n",
              "    </tr>\n",
              "    <tr>\n",
              "      <th>17</th>\n",
              "      <td>18</td>\n",
              "      <td>0.837709</td>\n",
              "      <td>0.794444</td>\n",
              "    </tr>\n",
              "    <tr>\n",
              "      <th>18</th>\n",
              "      <td>19</td>\n",
              "      <td>0.832936</td>\n",
              "      <td>0.787037</td>\n",
              "    </tr>\n",
              "  </tbody>\n",
              "</table>\n",
              "</div>"
            ],
            "text/plain": [
              "    min_samples_leaf  training_accuracy  test_accuracy\n",
              "0                  1           1.000000       0.851852\n",
              "1                  2           0.964996       0.829630\n",
              "2                  3           0.947494       0.857407\n",
              "3                  4           0.928401       0.859259\n",
              "4                  5           0.914081       0.846296\n",
              "5                  6           0.902944       0.837037\n",
              "6                  7           0.890215       0.825926\n",
              "7                  8           0.883850       0.825926\n",
              "8                  9           0.872713       0.811111\n",
              "9                 10           0.871122       0.811111\n",
              "10                11           0.869531       0.814815\n",
              "11                12           0.867144       0.816667\n",
              "12                13           0.862371       0.811111\n",
              "13                14           0.859189       0.811111\n",
              "14                15           0.851233       0.820370\n",
              "15                16           0.847255       0.800000\n",
              "16                17           0.841687       0.792593\n",
              "17                18           0.837709       0.794444\n",
              "18                19           0.832936       0.787037"
            ]
          },
          "metadata": {
            "tags": []
          },
          "execution_count": 9
        }
      ]
    },
    {
      "cell_type": "code",
      "metadata": {
        "id": "v_onTCVRiMHN",
        "outputId": "e5f9bb63-5c68-481a-c88e-f4ef2659ec4d",
        "colab": {
          "base_uri": "https://localhost:8080/",
          "height": 328
        }
      },
      "source": [
        "# self descriptive code\n",
        "training_accuracy = []\n",
        "test_accuracy = []\n",
        "max_depth = [2,3,5,7,10,11,12,13,14]\n",
        "\n",
        "for depth in max_depth:\n",
        "  treeModel = DecisionTreeClassifier(max_depth=depth, random_state=0)\n",
        "  treeModel.fit(X_train, y_train)\n",
        "  y_train_hat = treeModel.predict(X_train)\n",
        "  training_accuracy.append(accuracy_score(y_train, y_train_hat))\n",
        "  y_test_hat = treeModel.predict(X_test)\n",
        "  test_accuracy.append(accuracy_score(y_test, y_test_hat))\n",
        "\n",
        "max_depth_check = pd.DataFrame(list(zip(max_depth, training_accuracy, test_accuracy)),\n",
        "                                        columns = ['max_depth', 'training_accuracy', 'test_accuracy'])\n",
        "\n",
        "max_depth_check"
      ],
      "execution_count": 10,
      "outputs": [
        {
          "output_type": "execute_result",
          "data": {
            "text/html": [
              "<div>\n",
              "<style scoped>\n",
              "    .dataframe tbody tr th:only-of-type {\n",
              "        vertical-align: middle;\n",
              "    }\n",
              "\n",
              "    .dataframe tbody tr th {\n",
              "        vertical-align: top;\n",
              "    }\n",
              "\n",
              "    .dataframe thead th {\n",
              "        text-align: right;\n",
              "    }\n",
              "</style>\n",
              "<table border=\"1\" class=\"dataframe\">\n",
              "  <thead>\n",
              "    <tr style=\"text-align: right;\">\n",
              "      <th></th>\n",
              "      <th>max_depth</th>\n",
              "      <th>training_accuracy</th>\n",
              "      <th>test_accuracy</th>\n",
              "    </tr>\n",
              "  </thead>\n",
              "  <tbody>\n",
              "    <tr>\n",
              "      <th>0</th>\n",
              "      <td>2</td>\n",
              "      <td>0.323787</td>\n",
              "      <td>0.300000</td>\n",
              "    </tr>\n",
              "    <tr>\n",
              "      <th>1</th>\n",
              "      <td>3</td>\n",
              "      <td>0.469372</td>\n",
              "      <td>0.475926</td>\n",
              "    </tr>\n",
              "    <tr>\n",
              "      <th>2</th>\n",
              "      <td>5</td>\n",
              "      <td>0.670644</td>\n",
              "      <td>0.661111</td>\n",
              "    </tr>\n",
              "    <tr>\n",
              "      <th>3</th>\n",
              "      <td>7</td>\n",
              "      <td>0.895784</td>\n",
              "      <td>0.816667</td>\n",
              "    </tr>\n",
              "    <tr>\n",
              "      <th>4</th>\n",
              "      <td>10</td>\n",
              "      <td>0.974543</td>\n",
              "      <td>0.850000</td>\n",
              "    </tr>\n",
              "    <tr>\n",
              "      <th>5</th>\n",
              "      <td>11</td>\n",
              "      <td>0.989658</td>\n",
              "      <td>0.851852</td>\n",
              "    </tr>\n",
              "    <tr>\n",
              "      <th>6</th>\n",
              "      <td>12</td>\n",
              "      <td>0.996818</td>\n",
              "      <td>0.850000</td>\n",
              "    </tr>\n",
              "    <tr>\n",
              "      <th>7</th>\n",
              "      <td>13</td>\n",
              "      <td>0.999204</td>\n",
              "      <td>0.855556</td>\n",
              "    </tr>\n",
              "    <tr>\n",
              "      <th>8</th>\n",
              "      <td>14</td>\n",
              "      <td>1.000000</td>\n",
              "      <td>0.851852</td>\n",
              "    </tr>\n",
              "  </tbody>\n",
              "</table>\n",
              "</div>"
            ],
            "text/plain": [
              "   max_depth  training_accuracy  test_accuracy\n",
              "0          2           0.323787       0.300000\n",
              "1          3           0.469372       0.475926\n",
              "2          5           0.670644       0.661111\n",
              "3          7           0.895784       0.816667\n",
              "4         10           0.974543       0.850000\n",
              "5         11           0.989658       0.851852\n",
              "6         12           0.996818       0.850000\n",
              "7         13           0.999204       0.855556\n",
              "8         14           1.000000       0.851852"
            ]
          },
          "metadata": {
            "tags": []
          },
          "execution_count": 10
        }
      ]
    },
    {
      "cell_type": "code",
      "metadata": {
        "id": "fadYQpdHpLqE",
        "outputId": "d900b165-e069-473e-e0ce-c003ceb2348b",
        "colab": {
          "base_uri": "https://localhost:8080/",
          "height": 1000
        }
      },
      "source": [
        "# to sustain the model to be un-overfitted, set max_depth as 10 and min_samples_leaf as minimum\n",
        "\n",
        "leaf = 1\n",
        "depth = 10\n",
        "\n",
        "clf = DecisionTreeClassifier(min_samples_leaf=leaf, max_depth=depth, random_state=0)\n",
        "\n",
        "from sklearn import tree\n",
        "clf.fit(X_train, y_train)\n",
        "tree.plot_tree(treeModel)"
      ],
      "execution_count": 14,
      "outputs": [
        {
          "output_type": "execute_result",
          "data": {
            "text/plain": [
              "[Text(84.28901479007635, 210.192, 'X[36] <= 0.5\\ngini = 0.9\\nsamples = 1257\\nvalue = [125, 132, 130, 129, 121, 116, 128, 124, 131, 121]'),\n",
              " Text(19.93465648854962, 195.696, 'X[42] <= 5.0\\ngini = 0.554\\nsamples = 195\\nvalue = [123, 0, 3, 1, 6, 16, 4, 0, 3, 39]'),\n",
              " Text(8.178320610687024, 181.2, 'X[21] <= 8.0\\ngini = 0.398\\nsamples = 51\\nvalue = [0, 0, 1, 1, 0, 11, 0, 0, 0, 38]'),\n",
              " Text(4.089160305343512, 166.704, 'X[19] <= 11.5\\ngini = 0.292\\nsamples = 12\\nvalue = [0, 0, 1, 0, 0, 10, 0, 0, 0, 1]'),\n",
              " Text(2.044580152671756, 152.208, 'gini = 0.0\\nsamples = 10\\nvalue = [0, 0, 0, 0, 0, 10, 0, 0, 0, 0]'),\n",
              " Text(6.133740458015268, 152.208, 'X[52] <= 6.0\\ngini = 0.5\\nsamples = 2\\nvalue = [0, 0, 1, 0, 0, 0, 0, 0, 0, 1]'),\n",
              " Text(4.089160305343512, 137.712, 'gini = 0.0\\nsamples = 1\\nvalue = [0, 0, 0, 0, 0, 0, 0, 0, 0, 1]'),\n",
              " Text(8.178320610687024, 137.712, 'gini = 0.0\\nsamples = 1\\nvalue = [0, 0, 1, 0, 0, 0, 0, 0, 0, 0]'),\n",
              " Text(12.267480916030536, 166.704, 'X[60] <= 2.0\\ngini = 0.099\\nsamples = 39\\nvalue = [0, 0, 0, 1, 0, 1, 0, 0, 0, 37]'),\n",
              " Text(10.22290076335878, 152.208, 'gini = 0.0\\nsamples = 1\\nvalue = [0, 0, 0, 0, 0, 1, 0, 0, 0, 0]'),\n",
              " Text(14.312061068702292, 152.208, 'X[9] <= 10.5\\ngini = 0.051\\nsamples = 38\\nvalue = [0, 0, 0, 1, 0, 0, 0, 0, 0, 37]'),\n",
              " Text(12.267480916030536, 137.712, 'gini = 0.0\\nsamples = 37\\nvalue = [0, 0, 0, 0, 0, 0, 0, 0, 0, 37]'),\n",
              " Text(16.356641221374048, 137.712, 'gini = 0.0\\nsamples = 1\\nvalue = [0, 0, 0, 1, 0, 0, 0, 0, 0, 0]'),\n",
              " Text(31.690992366412218, 181.2, 'X[21] <= 1.0\\ngini = 0.266\\nsamples = 144\\nvalue = [123, 0, 2, 0, 6, 5, 4, 0, 3, 1]'),\n",
              " Text(24.53496183206107, 166.704, 'X[29] <= 1.0\\ngini = 0.735\\nsamples = 14\\nvalue = [1, 0, 1, 0, 5, 4, 3, 0, 0, 0]'),\n",
              " Text(22.490381679389316, 152.208, 'X[61] <= 0.5\\ngini = 0.667\\nsamples = 9\\nvalue = [1, 0, 1, 0, 0, 4, 3, 0, 0, 0]'),\n",
              " Text(20.44580152671756, 137.712, 'gini = 0.0\\nsamples = 4\\nvalue = [0, 0, 0, 0, 0, 4, 0, 0, 0, 0]'),\n",
              " Text(24.53496183206107, 137.712, 'X[50] <= 14.0\\ngini = 0.56\\nsamples = 5\\nvalue = [1, 0, 1, 0, 0, 0, 3, 0, 0, 0]'),\n",
              " Text(22.490381679389316, 123.216, 'gini = 0.0\\nsamples = 3\\nvalue = [0, 0, 0, 0, 0, 0, 3, 0, 0, 0]'),\n",
              " Text(26.579541984732828, 123.216, 'X[12] <= 8.0\\ngini = 0.5\\nsamples = 2\\nvalue = [1, 0, 1, 0, 0, 0, 0, 0, 0, 0]'),\n",
              " Text(24.53496183206107, 108.72, 'gini = 0.0\\nsamples = 1\\nvalue = [0, 0, 1, 0, 0, 0, 0, 0, 0, 0]'),\n",
              " Text(28.624122137404584, 108.72, 'gini = 0.0\\nsamples = 1\\nvalue = [1, 0, 0, 0, 0, 0, 0, 0, 0, 0]'),\n",
              " Text(26.579541984732828, 152.208, 'gini = 0.0\\nsamples = 5\\nvalue = [0, 0, 0, 0, 5, 0, 0, 0, 0, 0]'),\n",
              " Text(38.84702290076336, 166.704, 'X[28] <= 4.5\\ngini = 0.118\\nsamples = 130\\nvalue = [122, 0, 1, 0, 1, 1, 1, 0, 3, 1]'),\n",
              " Text(34.75786259541985, 152.208, 'X[18] <= 2.5\\ngini = 0.032\\nsamples = 124\\nvalue = [122, 0, 1, 0, 1, 0, 0, 0, 0, 0]'),\n",
              " Text(32.713282442748095, 137.712, 'X[45] <= 15.5\\ngini = 0.5\\nsamples = 2\\nvalue = [0, 0, 1, 0, 1, 0, 0, 0, 0, 0]'),\n",
              " Text(30.66870229007634, 123.216, 'gini = 0.0\\nsamples = 1\\nvalue = [0, 0, 1, 0, 0, 0, 0, 0, 0, 0]'),\n",
              " Text(34.75786259541985, 123.216, 'gini = 0.0\\nsamples = 1\\nvalue = [0, 0, 0, 0, 1, 0, 0, 0, 0, 0]'),\n",
              " Text(36.80244274809161, 137.712, 'gini = 0.0\\nsamples = 122\\nvalue = [122, 0, 0, 0, 0, 0, 0, 0, 0, 0]'),\n",
              " Text(42.936183206106875, 152.208, 'X[60] <= 7.5\\ngini = 0.667\\nsamples = 6\\nvalue = [0, 0, 0, 0, 0, 1, 1, 0, 3, 1]'),\n",
              " Text(40.89160305343512, 137.712, 'gini = 0.0\\nsamples = 3\\nvalue = [0, 0, 0, 0, 0, 0, 0, 0, 3, 0]'),\n",
              " Text(44.98076335877863, 137.712, 'X[46] <= 2.5\\ngini = 0.667\\nsamples = 3\\nvalue = [0, 0, 0, 0, 0, 1, 1, 0, 0, 1]'),\n",
              " Text(42.936183206106875, 123.216, 'gini = 0.0\\nsamples = 1\\nvalue = [0, 0, 0, 0, 0, 1, 0, 0, 0, 0]'),\n",
              " Text(47.02534351145039, 123.216, 'X[13] <= 5.5\\ngini = 0.5\\nsamples = 2\\nvalue = [0, 0, 0, 0, 0, 0, 1, 0, 0, 1]'),\n",
              " Text(44.98076335877863, 108.72, 'gini = 0.0\\nsamples = 1\\nvalue = [0, 0, 0, 0, 0, 0, 1, 0, 0, 0]'),\n",
              " Text(49.06992366412214, 108.72, 'gini = 0.0\\nsamples = 1\\nvalue = [0, 0, 0, 0, 0, 0, 0, 0, 0, 1]'),\n",
              " Text(148.64337309160308, 195.696, 'X[21] <= 0.5\\ngini = 0.887\\nsamples = 1062\\nvalue = [2, 132, 127, 128, 115, 100, 124, 124, 128, 82]'),\n",
              " Text(97.62870229007635, 181.2, 'X[42] <= 8.5\\ngini = 0.74\\nsamples = 312\\nvalue = [0, 28, 33, 11, 20, 91, 121, 4, 3, 1]'),\n",
              " Text(79.73862595419848, 166.704, 'X[5] <= 1.5\\ngini = 0.656\\nsamples = 167\\nvalue = [0, 24, 27, 11, 6, 90, 2, 3, 3, 1]'),\n",
              " Text(67.47114503816795, 152.208, 'X[10] <= 11.5\\ngini = 0.731\\nsamples = 73\\nvalue = [0, 24, 27, 10, 4, 1, 2, 2, 2, 1]'),\n",
              " Text(59.29282442748092, 137.712, 'X[37] <= 8.0\\ngini = 0.459\\nsamples = 32\\nvalue = [0, 23, 0, 1, 4, 0, 2, 2, 0, 0]'),\n",
              " Text(55.20366412213741, 123.216, 'X[28] <= 2.5\\ngini = 0.08\\nsamples = 24\\nvalue = [0, 23, 0, 0, 0, 0, 1, 0, 0, 0]'),\n",
              " Text(53.159083969465655, 108.72, 'gini = 0.0\\nsamples = 1\\nvalue = [0, 0, 0, 0, 0, 0, 1, 0, 0, 0]'),\n",
              " Text(57.24824427480917, 108.72, 'gini = 0.0\\nsamples = 23\\nvalue = [0, 23, 0, 0, 0, 0, 0, 0, 0, 0]'),\n",
              " Text(63.381984732824435, 123.216, 'X[52] <= 8.0\\ngini = 0.656\\nsamples = 8\\nvalue = [0, 0, 0, 1, 4, 0, 1, 2, 0, 0]'),\n",
              " Text(61.33740458015268, 108.72, 'X[52] <= 3.5\\ngini = 0.625\\nsamples = 4\\nvalue = [0, 0, 0, 1, 0, 0, 1, 2, 0, 0]'),\n",
              " Text(59.29282442748092, 94.22399999999999, 'gini = 0.0\\nsamples = 2\\nvalue = [0, 0, 0, 0, 0, 0, 0, 2, 0, 0]'),\n",
              " Text(63.381984732824435, 94.22399999999999, 'X[42] <= 4.0\\ngini = 0.5\\nsamples = 2\\nvalue = [0, 0, 0, 1, 0, 0, 1, 0, 0, 0]'),\n",
              " Text(61.33740458015268, 79.72799999999998, 'gini = 0.0\\nsamples = 1\\nvalue = [0, 0, 0, 1, 0, 0, 0, 0, 0, 0]'),\n",
              " Text(65.42656488549619, 79.72799999999998, 'gini = 0.0\\nsamples = 1\\nvalue = [0, 0, 0, 0, 0, 0, 1, 0, 0, 0]'),\n",
              " Text(65.42656488549619, 108.72, 'gini = 0.0\\nsamples = 4\\nvalue = [0, 0, 0, 0, 4, 0, 0, 0, 0, 0]'),\n",
              " Text(75.64946564885497, 137.712, 'X[37] <= 4.0\\ngini = 0.514\\nsamples = 41\\nvalue = [0, 1, 27, 9, 0, 1, 0, 0, 2, 1]'),\n",
              " Text(71.56030534351146, 123.216, 'X[4] <= 8.5\\ngini = 0.131\\nsamples = 29\\nvalue = [0, 1, 27, 0, 0, 0, 0, 0, 1, 0]'),\n",
              " Text(69.5157251908397, 108.72, 'gini = 0.0\\nsamples = 27\\nvalue = [0, 0, 27, 0, 0, 0, 0, 0, 0, 0]'),\n",
              " Text(73.60488549618321, 108.72, 'X[46] <= 0.5\\ngini = 0.5\\nsamples = 2\\nvalue = [0, 1, 0, 0, 0, 0, 0, 0, 1, 0]'),\n",
              " Text(71.56030534351146, 94.22399999999999, 'gini = 0.0\\nsamples = 1\\nvalue = [0, 1, 0, 0, 0, 0, 0, 0, 0, 0]'),\n",
              " Text(75.64946564885497, 94.22399999999999, 'gini = 0.0\\nsamples = 1\\nvalue = [0, 0, 0, 0, 0, 0, 0, 0, 1, 0]'),\n",
              " Text(79.73862595419848, 123.216, 'X[26] <= 12.5\\ngini = 0.417\\nsamples = 12\\nvalue = [0, 0, 0, 9, 0, 1, 0, 0, 1, 1]'),\n",
              " Text(77.69404580152673, 108.72, 'gini = 0.0\\nsamples = 9\\nvalue = [0, 0, 0, 9, 0, 0, 0, 0, 0, 0]'),\n",
              " Text(81.78320610687024, 108.72, 'X[17] <= 7.0\\ngini = 0.667\\nsamples = 3\\nvalue = [0, 0, 0, 0, 0, 1, 0, 0, 1, 1]'),\n",
              " Text(79.73862595419848, 94.22399999999999, 'gini = 0.0\\nsamples = 1\\nvalue = [0, 0, 0, 0, 0, 0, 0, 0, 0, 1]'),\n",
              " Text(83.827786259542, 94.22399999999999, 'X[60] <= 15.5\\ngini = 0.5\\nsamples = 2\\nvalue = [0, 0, 0, 0, 0, 1, 0, 0, 1, 0]'),\n",
              " Text(81.78320610687024, 79.72799999999998, 'gini = 0.0\\nsamples = 1\\nvalue = [0, 0, 0, 0, 0, 0, 0, 0, 1, 0]'),\n",
              " Text(85.87236641221375, 79.72799999999998, 'gini = 0.0\\nsamples = 1\\nvalue = [0, 0, 0, 0, 0, 1, 0, 0, 0, 0]'),\n",
              " Text(92.00610687022902, 152.208, 'X[18] <= 4.5\\ngini = 0.103\\nsamples = 94\\nvalue = [0, 0, 0, 1, 2, 89, 0, 1, 1, 0]'),\n",
              " Text(85.87236641221375, 137.712, 'X[51] <= 1.0\\ngini = 0.667\\nsamples = 3\\nvalue = [0, 0, 0, 1, 1, 0, 0, 1, 0, 0]'),\n",
              " Text(83.827786259542, 123.216, 'gini = 0.0\\nsamples = 1\\nvalue = [0, 0, 0, 0, 1, 0, 0, 0, 0, 0]'),\n",
              " Text(87.9169465648855, 123.216, 'X[27] <= 11.5\\ngini = 0.5\\nsamples = 2\\nvalue = [0, 0, 0, 1, 0, 0, 0, 1, 0, 0]'),\n",
              " Text(85.87236641221375, 108.72, 'gini = 0.0\\nsamples = 1\\nvalue = [0, 0, 0, 0, 0, 0, 0, 1, 0, 0]'),\n",
              " Text(89.96152671755726, 108.72, 'gini = 0.0\\nsamples = 1\\nvalue = [0, 0, 0, 1, 0, 0, 0, 0, 0, 0]'),\n",
              " Text(98.13984732824429, 137.712, 'X[20] <= 13.0\\ngini = 0.043\\nsamples = 91\\nvalue = [0, 0, 0, 0, 1, 89, 0, 0, 1, 0]'),\n",
              " Text(96.09526717557253, 123.216, 'X[24] <= 0.5\\ngini = 0.022\\nsamples = 90\\nvalue = [0, 0, 0, 0, 1, 89, 0, 0, 0, 0]'),\n",
              " Text(94.05068702290077, 108.72, 'gini = 0.0\\nsamples = 89\\nvalue = [0, 0, 0, 0, 0, 89, 0, 0, 0, 0]'),\n",
              " Text(98.13984732824429, 108.72, 'gini = 0.0\\nsamples = 1\\nvalue = [0, 0, 0, 0, 1, 0, 0, 0, 0, 0]'),\n",
              " Text(100.18442748091604, 123.216, 'gini = 0.0\\nsamples = 1\\nvalue = [0, 0, 0, 0, 0, 0, 0, 0, 1, 0]'),\n",
              " Text(115.51877862595421, 166.704, 'X[54] <= 1.5\\ngini = 0.315\\nsamples = 145\\nvalue = [0, 4, 6, 0, 14, 1, 119, 1, 0, 0]'),\n",
              " Text(110.40732824427482, 152.208, 'X[10] <= 4.5\\ngini = 0.676\\nsamples = 28\\nvalue = [0, 4, 2, 0, 14, 1, 6, 1, 0, 0]'),\n",
              " Text(106.31816793893131, 137.712, 'X[34] <= 11.5\\ngini = 0.124\\nsamples = 15\\nvalue = [0, 0, 0, 0, 14, 0, 1, 0, 0, 0]'),\n",
              " Text(104.27358778625955, 123.216, 'gini = 0.0\\nsamples = 1\\nvalue = [0, 0, 0, 0, 0, 0, 1, 0, 0, 0]'),\n",
              " Text(108.36274809160307, 123.216, 'gini = 0.0\\nsamples = 14\\nvalue = [0, 0, 0, 0, 14, 0, 0, 0, 0, 0]'),\n",
              " Text(114.49648854961833, 137.712, 'X[44] <= 12.5\\ngini = 0.722\\nsamples = 13\\nvalue = [0, 4, 2, 0, 0, 1, 5, 1, 0, 0]'),\n",
              " Text(112.45190839694658, 123.216, 'X[27] <= 15.0\\ngini = 0.656\\nsamples = 8\\nvalue = [0, 4, 2, 0, 0, 1, 0, 1, 0, 0]'),\n",
              " Text(110.40732824427482, 108.72, 'X[45] <= 2.0\\ngini = 0.625\\nsamples = 4\\nvalue = [0, 0, 2, 0, 0, 1, 0, 1, 0, 0]'),\n",
              " Text(108.36274809160307, 94.22399999999999, 'gini = 0.0\\nsamples = 2\\nvalue = [0, 0, 2, 0, 0, 0, 0, 0, 0, 0]'),\n",
              " Text(112.45190839694658, 94.22399999999999, 'X[53] <= 6.5\\ngini = 0.5\\nsamples = 2\\nvalue = [0, 0, 0, 0, 0, 1, 0, 1, 0, 0]'),\n",
              " Text(110.40732824427482, 79.72799999999998, 'gini = 0.0\\nsamples = 1\\nvalue = [0, 0, 0, 0, 0, 0, 0, 1, 0, 0]'),\n",
              " Text(114.49648854961833, 79.72799999999998, 'gini = 0.0\\nsamples = 1\\nvalue = [0, 0, 0, 0, 0, 1, 0, 0, 0, 0]'),\n",
              " Text(114.49648854961833, 108.72, 'gini = 0.0\\nsamples = 4\\nvalue = [0, 4, 0, 0, 0, 0, 0, 0, 0, 0]'),\n",
              " Text(116.54106870229009, 123.216, 'gini = 0.0\\nsamples = 5\\nvalue = [0, 0, 0, 0, 0, 0, 5, 0, 0, 0]'),\n",
              " Text(120.6302290076336, 152.208, 'X[2] <= 11.0\\ngini = 0.066\\nsamples = 117\\nvalue = [0, 0, 4, 0, 0, 0, 113, 0, 0, 0]'),\n",
              " Text(118.58564885496185, 137.712, 'gini = 0.0\\nsamples = 113\\nvalue = [0, 0, 0, 0, 0, 0, 113, 0, 0, 0]'),\n",
              " Text(122.67480916030536, 137.712, 'gini = 0.0\\nsamples = 4\\nvalue = [0, 0, 4, 0, 0, 0, 0, 0, 0, 0]'),\n",
              " Text(199.6580438931298, 181.2, 'X[60] <= 2.5\\ngini = 0.859\\nsamples = 750\\nvalue = [2, 104, 94, 117, 95, 9, 3, 120, 125, 81]'),\n",
              " Text(138.00916030534353, 166.704, 'X[26] <= 14.5\\ngini = 0.218\\nsamples = 93\\nvalue = [0, 0, 1, 2, 5, 0, 0, 82, 0, 3]'),\n",
              " Text(130.85312977099238, 152.208, 'X[37] <= 0.5\\ngini = 0.093\\nsamples = 83\\nvalue = [0, 0, 1, 2, 1, 0, 0, 79, 0, 0]'),\n",
              " Text(126.76396946564887, 137.712, 'X[22] <= 3.5\\ngini = 0.611\\nsamples = 6\\nvalue = [0, 0, 0, 2, 1, 0, 0, 3, 0, 0]'),\n",
              " Text(124.71938931297711, 123.216, 'X[43] <= 11.5\\ngini = 0.444\\nsamples = 3\\nvalue = [0, 0, 0, 2, 1, 0, 0, 0, 0, 0]'),\n",
              " Text(122.67480916030536, 108.72, 'gini = 0.0\\nsamples = 2\\nvalue = [0, 0, 0, 2, 0, 0, 0, 0, 0, 0]'),\n",
              " Text(126.76396946564887, 108.72, 'gini = 0.0\\nsamples = 1\\nvalue = [0, 0, 0, 0, 1, 0, 0, 0, 0, 0]'),\n",
              " Text(128.80854961832063, 123.216, 'gini = 0.0\\nsamples = 3\\nvalue = [0, 0, 0, 0, 0, 0, 0, 3, 0, 0]'),\n",
              " Text(134.9422900763359, 137.712, 'X[62] <= 2.5\\ngini = 0.026\\nsamples = 77\\nvalue = [0, 0, 1, 0, 0, 0, 0, 76, 0, 0]'),\n",
              " Text(132.89770992366414, 123.216, 'gini = 0.0\\nsamples = 76\\nvalue = [0, 0, 0, 0, 0, 0, 0, 76, 0, 0]'),\n",
              " Text(136.98687022900765, 123.216, 'gini = 0.0\\nsamples = 1\\nvalue = [0, 0, 1, 0, 0, 0, 0, 0, 0, 0]'),\n",
              " Text(145.16519083969467, 152.208, 'X[35] <= 13.0\\ngini = 0.66\\nsamples = 10\\nvalue = [0, 0, 0, 0, 4, 0, 0, 3, 0, 3]'),\n",
              " Text(143.12061068702292, 137.712, 'X[29] <= 14.5\\ngini = 0.5\\nsamples = 6\\nvalue = [0, 0, 0, 0, 0, 0, 0, 3, 0, 3]'),\n",
              " Text(141.07603053435116, 123.216, 'gini = 0.0\\nsamples = 3\\nvalue = [0, 0, 0, 0, 0, 0, 0, 0, 0, 3]'),\n",
              " Text(145.16519083969467, 123.216, 'gini = 0.0\\nsamples = 3\\nvalue = [0, 0, 0, 0, 0, 0, 0, 3, 0, 0]'),\n",
              " Text(147.20977099236643, 137.712, 'gini = 0.0\\nsamples = 4\\nvalue = [0, 0, 0, 0, 4, 0, 0, 0, 0, 0]'),\n",
              " Text(261.30692748091604, 166.704, 'X[33] <= 4.5\\ngini = 0.852\\nsamples = 657\\nvalue = [2, 104, 93, 115, 90, 9, 3, 38, 125, 78]'),\n",
              " Text(205.192786259542, 152.208, 'X[43] <= 2.5\\ngini = 0.828\\nsamples = 556\\nvalue = [2, 95, 93, 114, 9, 8, 1, 33, 123, 78]'),\n",
              " Text(165.67488549618324, 137.712, 'X[26] <= 3.5\\ngini = 0.691\\nsamples = 231\\nvalue = [0, 21, 6, 102, 1, 6, 0, 3, 20, 72]'),\n",
              " Text(149.25435114503819, 123.216, 'X[63] <= 1.5\\ngini = 0.246\\nsamples = 104\\nvalue = [0, 2, 5, 90, 0, 0, 0, 0, 3, 4]'),\n",
              " Text(144.1429007633588, 108.72, 'X[19] <= 8.5\\ngini = 0.154\\nsamples = 98\\nvalue = [0, 1, 0, 90, 0, 0, 0, 0, 3, 4]'),\n",
              " Text(140.05374045801528, 94.22399999999999, 'X[4] <= 7.5\\ngini = 0.022\\nsamples = 89\\nvalue = [0, 0, 0, 88, 0, 0, 0, 0, 0, 1]'),\n",
              " Text(138.00916030534353, 79.72799999999998, 'X[29] <= 11.5\\ngini = 0.444\\nsamples = 3\\nvalue = [0, 0, 0, 2, 0, 0, 0, 0, 0, 1]'),\n",
              " Text(135.96458015267177, 65.232, 'gini = 0.0\\nsamples = 2\\nvalue = [0, 0, 0, 2, 0, 0, 0, 0, 0, 0]'),\n",
              " Text(140.05374045801528, 65.232, 'gini = 0.0\\nsamples = 1\\nvalue = [0, 0, 0, 0, 0, 0, 0, 0, 0, 1]'),\n",
              " Text(142.09832061068704, 79.72799999999998, 'gini = 0.0\\nsamples = 86\\nvalue = [0, 0, 0, 86, 0, 0, 0, 0, 0, 0]'),\n",
              " Text(148.2320610687023, 94.22399999999999, 'X[14] <= 1.0\\ngini = 0.716\\nsamples = 9\\nvalue = [0, 1, 0, 2, 0, 0, 0, 0, 3, 3]'),\n",
              " Text(146.18748091603055, 79.72799999999998, 'X[30] <= 0.5\\ngini = 0.611\\nsamples = 6\\nvalue = [0, 1, 0, 2, 0, 0, 0, 0, 0, 3]'),\n",
              " Text(144.1429007633588, 65.232, 'X[44] <= 14.5\\ngini = 0.444\\nsamples = 3\\nvalue = [0, 1, 0, 2, 0, 0, 0, 0, 0, 0]'),\n",
              " Text(142.09832061068704, 50.73599999999999, 'gini = 0.0\\nsamples = 2\\nvalue = [0, 0, 0, 2, 0, 0, 0, 0, 0, 0]'),\n",
              " Text(146.18748091603055, 50.73599999999999, 'gini = 0.0\\nsamples = 1\\nvalue = [0, 1, 0, 0, 0, 0, 0, 0, 0, 0]'),\n",
              " Text(148.2320610687023, 65.232, 'gini = 0.0\\nsamples = 3\\nvalue = [0, 0, 0, 0, 0, 0, 0, 0, 0, 3]'),\n",
              " Text(150.27664122137406, 79.72799999999998, 'gini = 0.0\\nsamples = 3\\nvalue = [0, 0, 0, 0, 0, 0, 0, 0, 3, 0]'),\n",
              " Text(154.36580152671758, 108.72, 'X[21] <= 7.5\\ngini = 0.278\\nsamples = 6\\nvalue = [0, 1, 5, 0, 0, 0, 0, 0, 0, 0]'),\n",
              " Text(152.32122137404582, 94.22399999999999, 'gini = 0.0\\nsamples = 1\\nvalue = [0, 1, 0, 0, 0, 0, 0, 0, 0, 0]'),\n",
              " Text(156.41038167938933, 94.22399999999999, 'gini = 0.0\\nsamples = 5\\nvalue = [0, 0, 5, 0, 0, 0, 0, 0, 0, 0]'),\n",
              " Text(182.09541984732826, 123.216, 'X[42] <= 9.0\\ngini = 0.661\\nsamples = 127\\nvalue = [0, 19, 1, 12, 1, 6, 0, 3, 17, 68]'),\n",
              " Text(173.02259541984733, 108.72, 'X[12] <= 14.5\\ngini = 0.573\\nsamples = 110\\nvalue = [0, 19, 1, 12, 1, 5, 0, 3, 1, 68]'),\n",
              " Text(161.01068702290078, 94.22399999999999, 'X[21] <= 7.5\\ngini = 0.405\\nsamples = 80\\nvalue = [0, 2, 1, 8, 1, 3, 0, 3, 1, 61]'),\n",
              " Text(154.36580152671758, 79.72799999999998, 'X[6] <= 13.0\\ngini = 0.72\\nsamples = 10\\nvalue = [0, 0, 0, 3, 1, 3, 0, 3, 0, 0]'),\n",
              " Text(152.32122137404582, 65.232, 'X[19] <= 10.0\\ngini = 0.612\\nsamples = 7\\nvalue = [0, 0, 0, 3, 1, 3, 0, 0, 0, 0]'),\n",
              " Text(150.27664122137406, 50.73599999999999, 'X[9] <= 1.0\\ngini = 0.375\\nsamples = 4\\nvalue = [0, 0, 0, 3, 1, 0, 0, 0, 0, 0]'),\n",
              " Text(148.2320610687023, 36.23999999999998, 'gini = 0.0\\nsamples = 1\\nvalue = [0, 0, 0, 0, 1, 0, 0, 0, 0, 0]'),\n",
              " Text(152.32122137404582, 36.23999999999998, 'gini = 0.0\\nsamples = 3\\nvalue = [0, 0, 0, 3, 0, 0, 0, 0, 0, 0]'),\n",
              " Text(154.36580152671758, 50.73599999999999, 'gini = 0.0\\nsamples = 3\\nvalue = [0, 0, 0, 0, 0, 3, 0, 0, 0, 0]'),\n",
              " Text(156.41038167938933, 65.232, 'gini = 0.0\\nsamples = 3\\nvalue = [0, 0, 0, 0, 0, 0, 0, 3, 0, 0]'),\n",
              " Text(167.655572519084, 79.72799999999998, 'X[27] <= 3.5\\ngini = 0.234\\nsamples = 70\\nvalue = [0, 2, 1, 5, 0, 0, 0, 0, 1, 61]'),\n",
              " Text(160.49954198473284, 65.232, 'X[2] <= 1.5\\ngini = 0.594\\nsamples = 8\\nvalue = [0, 0, 1, 4, 0, 0, 0, 0, 0, 3]'),\n",
              " Text(158.4549618320611, 50.73599999999999, 'gini = 0.0\\nsamples = 4\\nvalue = [0, 0, 0, 4, 0, 0, 0, 0, 0, 0]'),\n",
              " Text(162.5441221374046, 50.73599999999999, 'X[44] <= 5.5\\ngini = 0.375\\nsamples = 4\\nvalue = [0, 0, 1, 0, 0, 0, 0, 0, 0, 3]'),\n",
              " Text(160.49954198473284, 36.23999999999998, 'gini = 0.0\\nsamples = 3\\nvalue = [0, 0, 0, 0, 0, 0, 0, 0, 0, 3]'),\n",
              " Text(164.58870229007636, 36.23999999999998, 'gini = 0.0\\nsamples = 1\\nvalue = [0, 0, 1, 0, 0, 0, 0, 0, 0, 0]'),\n",
              " Text(174.81160305343514, 65.232, 'X[28] <= 5.5\\ngini = 0.123\\nsamples = 62\\nvalue = [0, 2, 0, 1, 0, 0, 0, 0, 1, 58]'),\n",
              " Text(170.72244274809162, 50.73599999999999, 'X[12] <= 13.0\\ngini = 0.5\\nsamples = 2\\nvalue = [0, 1, 0, 0, 0, 0, 0, 0, 1, 0]'),\n",
              " Text(168.67786259541987, 36.23999999999998, 'gini = 0.0\\nsamples = 1\\nvalue = [0, 0, 0, 0, 0, 0, 0, 0, 1, 0]'),\n",
              " Text(172.76702290076338, 36.23999999999998, 'gini = 0.0\\nsamples = 1\\nvalue = [0, 1, 0, 0, 0, 0, 0, 0, 0, 0]'),\n",
              " Text(178.90076335877865, 50.73599999999999, 'X[33] <= 3.0\\ngini = 0.065\\nsamples = 60\\nvalue = [0, 1, 0, 1, 0, 0, 0, 0, 0, 58]'),\n",
              " Text(176.8561832061069, 36.23999999999998, 'X[9] <= 11.0\\ngini = 0.033\\nsamples = 59\\nvalue = [0, 0, 0, 1, 0, 0, 0, 0, 0, 58]'),\n",
              " Text(174.81160305343514, 21.744, 'gini = 0.0\\nsamples = 58\\nvalue = [0, 0, 0, 0, 0, 0, 0, 0, 0, 58]'),\n",
              " Text(178.90076335877865, 21.744, 'gini = 0.0\\nsamples = 1\\nvalue = [0, 0, 0, 1, 0, 0, 0, 0, 0, 0]'),\n",
              " Text(180.9453435114504, 36.23999999999998, 'gini = 0.0\\nsamples = 1\\nvalue = [0, 1, 0, 0, 0, 0, 0, 0, 0, 0]'),\n",
              " Text(185.03450381679392, 94.22399999999999, 'X[2] <= 1.0\\ngini = 0.602\\nsamples = 30\\nvalue = [0, 17, 0, 4, 0, 2, 0, 0, 0, 7]'),\n",
              " Text(182.98992366412216, 79.72799999999998, 'gini = 0.0\\nsamples = 17\\nvalue = [0, 17, 0, 0, 0, 0, 0, 0, 0, 0]'),\n",
              " Text(187.07908396946567, 79.72799999999998, 'X[21] <= 10.5\\ngini = 0.592\\nsamples = 13\\nvalue = [0, 0, 0, 4, 0, 2, 0, 0, 0, 7]'),\n",
              " Text(185.03450381679392, 65.232, 'X[4] <= 3.5\\ngini = 0.444\\nsamples = 6\\nvalue = [0, 0, 0, 4, 0, 2, 0, 0, 0, 0]'),\n",
              " Text(182.98992366412216, 50.73599999999999, 'gini = 0.0\\nsamples = 2\\nvalue = [0, 0, 0, 0, 0, 2, 0, 0, 0, 0]'),\n",
              " Text(187.07908396946567, 50.73599999999999, 'gini = 0.0\\nsamples = 4\\nvalue = [0, 0, 0, 4, 0, 0, 0, 0, 0, 0]'),\n",
              " Text(189.12366412213743, 65.232, 'gini = 0.0\\nsamples = 7\\nvalue = [0, 0, 0, 0, 0, 0, 0, 0, 0, 7]'),\n",
              " Text(191.16824427480918, 108.72, 'X[37] <= 14.0\\ngini = 0.111\\nsamples = 17\\nvalue = [0, 0, 0, 0, 0, 1, 0, 0, 16, 0]'),\n",
              " Text(189.12366412213743, 94.22399999999999, 'gini = 0.0\\nsamples = 16\\nvalue = [0, 0, 0, 0, 0, 0, 0, 0, 16, 0]'),\n",
              " Text(193.21282442748094, 94.22399999999999, 'gini = 0.0\\nsamples = 1\\nvalue = [0, 0, 0, 0, 0, 1, 0, 0, 0, 0]'),\n",
              " Text(244.7106870229008, 137.712, 'X[27] <= 9.5\\ngini = 0.765\\nsamples = 325\\nvalue = [2, 74, 87, 12, 8, 2, 1, 30, 103, 6]'),\n",
              " Text(211.1029007633588, 123.216, 'X[61] <= 0.5\\ngini = 0.568\\nsamples = 126\\nvalue = [2, 0, 77, 2, 3, 0, 0, 28, 11, 3]'),\n",
              " Text(201.39114503816796, 108.72, 'X[50] <= 7.0\\ngini = 0.281\\nsamples = 32\\nvalue = [1, 0, 0, 1, 1, 0, 0, 27, 2, 0]'),\n",
              " Text(197.30198473282445, 94.22399999999999, 'X[5] <= 2.0\\ngini = 0.131\\nsamples = 29\\nvalue = [0, 0, 0, 1, 1, 0, 0, 27, 0, 0]'),\n",
              " Text(195.2574045801527, 79.72799999999998, 'gini = 0.0\\nsamples = 1\\nvalue = [0, 0, 0, 0, 1, 0, 0, 0, 0, 0]'),\n",
              " Text(199.3465648854962, 79.72799999999998, 'X[2] <= 7.5\\ngini = 0.069\\nsamples = 28\\nvalue = [0, 0, 0, 1, 0, 0, 0, 27, 0, 0]'),\n",
              " Text(197.30198473282445, 65.232, 'gini = 0.0\\nsamples = 27\\nvalue = [0, 0, 0, 0, 0, 0, 0, 27, 0, 0]'),\n",
              " Text(201.39114503816796, 65.232, 'gini = 0.0\\nsamples = 1\\nvalue = [0, 0, 0, 1, 0, 0, 0, 0, 0, 0]'),\n",
              " Text(205.48030534351147, 94.22399999999999, 'X[44] <= 13.5\\ngini = 0.444\\nsamples = 3\\nvalue = [1, 0, 0, 0, 0, 0, 0, 0, 2, 0]'),\n",
              " Text(203.43572519083972, 79.72799999999998, 'gini = 0.0\\nsamples = 2\\nvalue = [0, 0, 0, 0, 0, 0, 0, 0, 2, 0]'),\n",
              " Text(207.52488549618323, 79.72799999999998, 'gini = 0.0\\nsamples = 1\\nvalue = [1, 0, 0, 0, 0, 0, 0, 0, 0, 0]'),\n",
              " Text(220.81465648854964, 108.72, 'X[26] <= 7.0\\ngini = 0.318\\nsamples = 94\\nvalue = [1, 0, 77, 1, 2, 0, 0, 1, 9, 3]'),\n",
              " Text(213.6586259541985, 94.22399999999999, 'X[38] <= 1.5\\ngini = 0.05\\nsamples = 78\\nvalue = [0, 0, 76, 1, 0, 0, 0, 1, 0, 0]'),\n",
              " Text(211.61404580152674, 79.72799999999998, 'gini = 0.0\\nsamples = 76\\nvalue = [0, 0, 76, 0, 0, 0, 0, 0, 0, 0]'),\n",
              " Text(215.70320610687025, 79.72799999999998, 'X[45] <= 12.5\\ngini = 0.5\\nsamples = 2\\nvalue = [0, 0, 0, 1, 0, 0, 0, 1, 0, 0]'),\n",
              " Text(213.6586259541985, 65.232, 'gini = 0.0\\nsamples = 1\\nvalue = [0, 0, 0, 0, 0, 0, 0, 1, 0, 0]'),\n",
              " Text(217.747786259542, 65.232, 'gini = 0.0\\nsamples = 1\\nvalue = [0, 0, 0, 1, 0, 0, 0, 0, 0, 0]'),\n",
              " Text(227.9706870229008, 94.22399999999999, 'X[58] <= 7.5\\ngini = 0.625\\nsamples = 16\\nvalue = [1, 0, 1, 0, 2, 0, 0, 0, 9, 3]'),\n",
              " Text(225.92610687022903, 79.72799999999998, 'X[21] <= 6.5\\ngini = 0.485\\nsamples = 13\\nvalue = [1, 0, 1, 0, 2, 0, 0, 0, 9, 0]'),\n",
              " Text(221.83694656488552, 65.232, 'X[59] <= 10.0\\ngini = 0.444\\nsamples = 3\\nvalue = [0, 0, 1, 0, 2, 0, 0, 0, 0, 0]'),\n",
              " Text(219.79236641221377, 50.73599999999999, 'gini = 0.0\\nsamples = 2\\nvalue = [0, 0, 0, 0, 2, 0, 0, 0, 0, 0]'),\n",
              " Text(223.88152671755728, 50.73599999999999, 'gini = 0.0\\nsamples = 1\\nvalue = [0, 0, 1, 0, 0, 0, 0, 0, 0, 0]'),\n",
              " Text(230.01526717557255, 65.232, 'X[11] <= 15.5\\ngini = 0.18\\nsamples = 10\\nvalue = [1, 0, 0, 0, 0, 0, 0, 0, 9, 0]'),\n",
              " Text(227.9706870229008, 50.73599999999999, 'gini = 0.0\\nsamples = 9\\nvalue = [0, 0, 0, 0, 0, 0, 0, 0, 9, 0]'),\n",
              " Text(232.0598473282443, 50.73599999999999, 'gini = 0.0\\nsamples = 1\\nvalue = [1, 0, 0, 0, 0, 0, 0, 0, 0, 0]'),\n",
              " Text(230.01526717557255, 79.72799999999998, 'gini = 0.0\\nsamples = 3\\nvalue = [0, 0, 0, 0, 0, 0, 0, 0, 0, 3]'),\n",
              " Text(278.31847328244277, 123.216, 'X[20] <= 15.5\\ngini = 0.642\\nsamples = 199\\nvalue = [0, 74, 10, 10, 5, 2, 1, 2, 92, 3]'),\n",
              " Text(254.55022900763362, 108.72, 'X[18] <= 2.5\\ngini = 0.377\\nsamples = 107\\nvalue = [0, 5, 2, 5, 3, 2, 1, 2, 84, 3]'),\n",
              " Text(244.32732824427484, 94.22399999999999, 'X[2] <= 4.5\\ngini = 0.769\\nsamples = 13\\nvalue = [0, 2, 1, 5, 0, 0, 1, 2, 2, 0]'),\n",
              " Text(240.23816793893133, 79.72799999999998, 'X[41] <= 0.5\\ngini = 0.735\\nsamples = 7\\nvalue = [0, 2, 0, 0, 0, 0, 1, 2, 2, 0]'),\n",
              " Text(238.19358778625957, 65.232, 'X[42] <= 5.0\\ngini = 0.64\\nsamples = 5\\nvalue = [0, 2, 0, 0, 0, 0, 1, 2, 0, 0]'),\n",
              " Text(236.14900763358781, 50.73599999999999, 'gini = 0.0\\nsamples = 2\\nvalue = [0, 0, 0, 0, 0, 0, 0, 2, 0, 0]'),\n",
              " Text(240.23816793893133, 50.73599999999999, 'X[18] <= 1.0\\ngini = 0.444\\nsamples = 3\\nvalue = [0, 2, 0, 0, 0, 0, 1, 0, 0, 0]'),\n",
              " Text(238.19358778625957, 36.23999999999998, 'gini = 0.0\\nsamples = 1\\nvalue = [0, 0, 0, 0, 0, 0, 1, 0, 0, 0]'),\n",
              " Text(242.28274809160308, 36.23999999999998, 'gini = 0.0\\nsamples = 2\\nvalue = [0, 2, 0, 0, 0, 0, 0, 0, 0, 0]'),\n",
              " Text(242.28274809160308, 65.232, 'gini = 0.0\\nsamples = 2\\nvalue = [0, 0, 0, 0, 0, 0, 0, 0, 2, 0]'),\n",
              " Text(248.41648854961835, 79.72799999999998, 'X[49] <= 6.5\\ngini = 0.278\\nsamples = 6\\nvalue = [0, 0, 1, 5, 0, 0, 0, 0, 0, 0]'),\n",
              " Text(246.3719083969466, 65.232, 'gini = 0.0\\nsamples = 5\\nvalue = [0, 0, 0, 5, 0, 0, 0, 0, 0, 0]'),\n",
              " Text(250.4610687022901, 65.232, 'gini = 0.0\\nsamples = 1\\nvalue = [0, 0, 1, 0, 0, 0, 0, 0, 0, 0]'),\n",
              " Text(264.7731297709924, 94.22399999999999, 'X[25] <= 3.5\\ngini = 0.235\\nsamples = 94\\nvalue = [0, 3, 1, 0, 3, 2, 0, 0, 82, 3]'),\n",
              " Text(256.5948091603054, 79.72799999999998, 'X[36] <= 1.5\\ngini = 0.093\\nsamples = 83\\nvalue = [0, 2, 1, 0, 0, 0, 0, 0, 79, 1]'),\n",
              " Text(254.55022900763362, 65.232, 'gini = 0.0\\nsamples = 1\\nvalue = [0, 0, 0, 0, 0, 0, 0, 0, 0, 1]'),\n",
              " Text(258.63938931297713, 65.232, 'X[10] <= 1.5\\ngini = 0.071\\nsamples = 82\\nvalue = [0, 2, 1, 0, 0, 0, 0, 0, 79, 0]'),\n",
              " Text(256.5948091603054, 50.73599999999999, 'gini = 0.0\\nsamples = 1\\nvalue = [0, 1, 0, 0, 0, 0, 0, 0, 0, 0]'),\n",
              " Text(260.6839694656489, 50.73599999999999, 'X[13] <= 0.5\\ngini = 0.048\\nsamples = 81\\nvalue = [0, 1, 1, 0, 0, 0, 0, 0, 79, 0]'),\n",
              " Text(256.5948091603054, 36.23999999999998, 'X[4] <= 6.5\\ngini = 0.5\\nsamples = 2\\nvalue = [0, 1, 0, 0, 0, 0, 0, 0, 1, 0]'),\n",
              " Text(254.55022900763362, 21.744, 'gini = 0.0\\nsamples = 1\\nvalue = [0, 0, 0, 0, 0, 0, 0, 0, 1, 0]'),\n",
              " Text(258.63938931297713, 21.744, 'gini = 0.0\\nsamples = 1\\nvalue = [0, 1, 0, 0, 0, 0, 0, 0, 0, 0]'),\n",
              " Text(264.7731297709924, 36.23999999999998, 'X[36] <= 4.5\\ngini = 0.025\\nsamples = 79\\nvalue = [0, 0, 1, 0, 0, 0, 0, 0, 78, 0]'),\n",
              " Text(262.72854961832064, 21.744, 'X[34] <= 3.5\\ngini = 0.444\\nsamples = 3\\nvalue = [0, 0, 1, 0, 0, 0, 0, 0, 2, 0]'),\n",
              " Text(260.6839694656489, 7.2479999999999905, 'gini = 0.0\\nsamples = 1\\nvalue = [0, 0, 1, 0, 0, 0, 0, 0, 0, 0]'),\n",
              " Text(264.7731297709924, 7.2479999999999905, 'gini = 0.0\\nsamples = 2\\nvalue = [0, 0, 0, 0, 0, 0, 0, 0, 2, 0]'),\n",
              " Text(266.81770992366415, 21.744, 'gini = 0.0\\nsamples = 76\\nvalue = [0, 0, 0, 0, 0, 0, 0, 0, 76, 0]'),\n",
              " Text(272.9514503816794, 79.72799999999998, 'X[13] <= 7.5\\ngini = 0.777\\nsamples = 11\\nvalue = [0, 1, 0, 0, 3, 2, 0, 0, 3, 2]'),\n",
              " Text(270.90687022900767, 65.232, 'gini = 0.0\\nsamples = 3\\nvalue = [0, 0, 0, 0, 3, 0, 0, 0, 0, 0]'),\n",
              " Text(274.9960305343512, 65.232, 'X[60] <= 9.5\\ngini = 0.719\\nsamples = 8\\nvalue = [0, 1, 0, 0, 0, 2, 0, 0, 3, 2]'),\n",
              " Text(270.90687022900767, 50.73599999999999, 'X[51] <= 12.0\\ngini = 0.5\\nsamples = 4\\nvalue = [0, 0, 0, 0, 0, 2, 0, 0, 0, 2]'),\n",
              " Text(268.8622900763359, 36.23999999999998, 'gini = 0.0\\nsamples = 2\\nvalue = [0, 0, 0, 0, 0, 0, 0, 0, 0, 2]'),\n",
              " Text(272.9514503816794, 36.23999999999998, 'gini = 0.0\\nsamples = 2\\nvalue = [0, 0, 0, 0, 0, 2, 0, 0, 0, 0]'),\n",
              " Text(279.0851908396947, 50.73599999999999, 'X[59] <= 9.5\\ngini = 0.375\\nsamples = 4\\nvalue = [0, 1, 0, 0, 0, 0, 0, 0, 3, 0]'),\n",
              " Text(277.04061068702293, 36.23999999999998, 'gini = 0.0\\nsamples = 1\\nvalue = [0, 1, 0, 0, 0, 0, 0, 0, 0, 0]'),\n",
              " Text(281.12977099236645, 36.23999999999998, 'gini = 0.0\\nsamples = 3\\nvalue = [0, 0, 0, 0, 0, 0, 0, 0, 3, 0]'),\n",
              " Text(302.086717557252, 108.72, 'X[10] <= 13.5\\ngini = 0.419\\nsamples = 92\\nvalue = [0, 69, 8, 5, 2, 0, 0, 0, 8, 0]'),\n",
              " Text(294.41954198473286, 94.22399999999999, 'X[46] <= 1.5\\ngini = 0.196\\nsamples = 76\\nvalue = [0, 68, 1, 2, 2, 0, 0, 0, 3, 0]'),\n",
              " Text(289.30809160305347, 79.72799999999998, 'X[36] <= 6.0\\ngini = 0.082\\nsamples = 71\\nvalue = [0, 68, 1, 1, 0, 0, 0, 0, 1, 0]'),\n",
              " Text(287.2635114503817, 65.232, 'gini = 0.0\\nsamples = 1\\nvalue = [0, 0, 1, 0, 0, 0, 0, 0, 0, 0]'),\n",
              " Text(291.3526717557252, 65.232, 'X[12] <= 10.0\\ngini = 0.056\\nsamples = 70\\nvalue = [0, 68, 0, 1, 0, 0, 0, 0, 1, 0]'),\n",
              " Text(287.2635114503817, 50.73599999999999, 'X[18] <= 4.5\\ngini = 0.5\\nsamples = 2\\nvalue = [0, 1, 0, 1, 0, 0, 0, 0, 0, 0]'),\n",
              " Text(285.21893129770996, 36.23999999999998, 'gini = 0.0\\nsamples = 1\\nvalue = [0, 0, 0, 1, 0, 0, 0, 0, 0, 0]'),\n",
              " Text(289.30809160305347, 36.23999999999998, 'gini = 0.0\\nsamples = 1\\nvalue = [0, 1, 0, 0, 0, 0, 0, 0, 0, 0]'),\n",
              " Text(295.44183206106874, 50.73599999999999, 'X[52] <= 8.0\\ngini = 0.029\\nsamples = 68\\nvalue = [0, 67, 0, 0, 0, 0, 0, 0, 1, 0]'),\n",
              " Text(293.397251908397, 36.23999999999998, 'X[52] <= 5.5\\ngini = 0.5\\nsamples = 2\\nvalue = [0, 1, 0, 0, 0, 0, 0, 0, 1, 0]'),\n",
              " Text(291.3526717557252, 21.744, 'gini = 0.0\\nsamples = 1\\nvalue = [0, 1, 0, 0, 0, 0, 0, 0, 0, 0]'),\n",
              " Text(295.44183206106874, 21.744, 'gini = 0.0\\nsamples = 1\\nvalue = [0, 0, 0, 0, 0, 0, 0, 0, 1, 0]'),\n",
              " Text(297.4864122137405, 36.23999999999998, 'gini = 0.0\\nsamples = 66\\nvalue = [0, 66, 0, 0, 0, 0, 0, 0, 0, 0]'),\n",
              " Text(299.53099236641225, 79.72799999999998, 'X[11] <= 12.5\\ngini = 0.64\\nsamples = 5\\nvalue = [0, 0, 0, 1, 2, 0, 0, 0, 2, 0]'),\n",
              " Text(297.4864122137405, 65.232, 'gini = 0.0\\nsamples = 2\\nvalue = [0, 0, 0, 0, 2, 0, 0, 0, 0, 0]'),\n",
              " Text(301.575572519084, 65.232, 'X[3] <= 14.0\\ngini = 0.444\\nsamples = 3\\nvalue = [0, 0, 0, 1, 0, 0, 0, 0, 2, 0]'),\n",
              " Text(299.53099236641225, 50.73599999999999, 'gini = 0.0\\nsamples = 2\\nvalue = [0, 0, 0, 0, 0, 0, 0, 0, 2, 0]'),\n",
              " Text(303.62015267175576, 50.73599999999999, 'gini = 0.0\\nsamples = 1\\nvalue = [0, 0, 0, 1, 0, 0, 0, 0, 0, 0]'),\n",
              " Text(309.75389312977103, 94.22399999999999, 'X[21] <= 5.5\\ngini = 0.672\\nsamples = 16\\nvalue = [0, 1, 7, 3, 0, 0, 0, 0, 5, 0]'),\n",
              " Text(307.7093129770993, 79.72799999999998, 'gini = 0.0\\nsamples = 7\\nvalue = [0, 0, 7, 0, 0, 0, 0, 0, 0, 0]'),\n",
              " Text(311.7984732824428, 79.72799999999998, 'X[50] <= 12.5\\ngini = 0.568\\nsamples = 9\\nvalue = [0, 1, 0, 3, 0, 0, 0, 0, 5, 0]'),\n",
              " Text(309.75389312977103, 65.232, 'X[60] <= 12.0\\ngini = 0.375\\nsamples = 4\\nvalue = [0, 1, 0, 3, 0, 0, 0, 0, 0, 0]'),\n",
              " Text(307.7093129770993, 50.73599999999999, 'gini = 0.0\\nsamples = 1\\nvalue = [0, 1, 0, 0, 0, 0, 0, 0, 0, 0]'),\n",
              " Text(311.7984732824428, 50.73599999999999, 'gini = 0.0\\nsamples = 3\\nvalue = [0, 0, 0, 3, 0, 0, 0, 0, 0, 0]'),\n",
              " Text(313.84305343511454, 65.232, 'gini = 0.0\\nsamples = 5\\nvalue = [0, 0, 0, 0, 0, 0, 0, 0, 5, 0]'),\n",
              " Text(317.4210687022901, 152.208, 'X[13] <= 13.5\\ngini = 0.345\\nsamples = 101\\nvalue = [0, 9, 0, 1, 81, 1, 2, 5, 2, 0]'),\n",
              " Text(312.30961832061075, 137.712, 'X[37] <= 6.5\\ngini = 0.092\\nsamples = 84\\nvalue = [0, 3, 0, 0, 80, 1, 0, 0, 0, 0]'),\n",
              " Text(308.22045801526724, 123.216, 'X[41] <= 3.0\\ngini = 0.375\\nsamples = 4\\nvalue = [0, 3, 0, 0, 1, 0, 0, 0, 0, 0]'),\n",
              " Text(306.1758778625955, 108.72, 'gini = 0.0\\nsamples = 3\\nvalue = [0, 3, 0, 0, 0, 0, 0, 0, 0, 0]'),\n",
              " Text(310.265038167939, 108.72, 'gini = 0.0\\nsamples = 1\\nvalue = [0, 0, 0, 0, 1, 0, 0, 0, 0, 0]'),\n",
              " Text(316.39877862595426, 123.216, 'X[44] <= 6.5\\ngini = 0.025\\nsamples = 80\\nvalue = [0, 0, 0, 0, 79, 1, 0, 0, 0, 0]'),\n",
              " Text(314.3541984732825, 108.72, 'gini = 0.0\\nsamples = 1\\nvalue = [0, 0, 0, 0, 0, 1, 0, 0, 0, 0]'),\n",
              " Text(318.443358778626, 108.72, 'gini = 0.0\\nsamples = 79\\nvalue = [0, 0, 0, 0, 79, 0, 0, 0, 0, 0]'),\n",
              " Text(322.53251908396953, 137.712, 'X[3] <= 5.0\\ngini = 0.754\\nsamples = 17\\nvalue = [0, 6, 0, 1, 1, 0, 2, 5, 2, 0]'),\n",
              " Text(320.4879389312978, 123.216, 'gini = 0.0\\nsamples = 6\\nvalue = [0, 6, 0, 0, 0, 0, 0, 0, 0, 0]'),\n",
              " Text(324.5770992366413, 123.216, 'X[19] <= 2.0\\ngini = 0.711\\nsamples = 11\\nvalue = [0, 0, 0, 1, 1, 0, 2, 5, 2, 0]'),\n",
              " Text(322.53251908396953, 108.72, 'gini = 0.0\\nsamples = 5\\nvalue = [0, 0, 0, 0, 0, 0, 0, 5, 0, 0]'),\n",
              " Text(326.62167938931304, 108.72, 'X[11] <= 15.5\\ngini = 0.722\\nsamples = 6\\nvalue = [0, 0, 0, 1, 1, 0, 2, 0, 2, 0]'),\n",
              " Text(324.5770992366413, 94.22399999999999, 'gini = 0.0\\nsamples = 2\\nvalue = [0, 0, 0, 0, 0, 0, 0, 0, 2, 0]'),\n",
              " Text(328.6662595419848, 94.22399999999999, 'X[29] <= 11.5\\ngini = 0.625\\nsamples = 4\\nvalue = [0, 0, 0, 1, 1, 0, 2, 0, 0, 0]'),\n",
              " Text(326.62167938931304, 79.72799999999998, 'gini = 0.0\\nsamples = 2\\nvalue = [0, 0, 0, 0, 0, 0, 2, 0, 0, 0]'),\n",
              " Text(330.71083969465656, 79.72799999999998, 'X[50] <= 7.5\\ngini = 0.5\\nsamples = 2\\nvalue = [0, 0, 0, 1, 1, 0, 0, 0, 0, 0]'),\n",
              " Text(328.6662595419848, 65.232, 'gini = 0.0\\nsamples = 1\\nvalue = [0, 0, 0, 0, 1, 0, 0, 0, 0, 0]'),\n",
              " Text(332.7554198473283, 65.232, 'gini = 0.0\\nsamples = 1\\nvalue = [0, 0, 0, 1, 0, 0, 0, 0, 0, 0]')]"
            ]
          },
          "metadata": {
            "tags": []
          },
          "execution_count": 14
        },
        {
          "output_type": "display_data",
          "data": {
            "image/png": "[encoded data removed]",
            "text/plain": [
              "<Figure size 432x288 with 1 Axes>"
            ]
          },
          "metadata": {
            "tags": [],
            "needs_background": "light"
          }
        }
      ]
    },
    {
      "cell_type": "code",
      "metadata": {
        "id": "iJFJnZh0-GIk",
        "outputId": "c4b246af-0863-481c-b67d-f35cdde9a464",
        "colab": {
          "base_uri": "https://localhost:8080/",
          "height": 251
        }
      },
      "source": [
        "clf.feature_importances_"
      ],
      "execution_count": 15,
      "outputs": [
        {
          "output_type": "execute_result",
          "data": {
            "text/plain": [
              "array([0.        , 0.        , 0.00889241, 0.        , 0.00488304,\n",
              "       0.04474059, 0.        , 0.        , 0.        , 0.00179355,\n",
              "       0.04467438, 0.        , 0.01252085, 0.01673709, 0.00255836,\n",
              "       0.00268409, 0.        , 0.00092101, 0.01367564, 0.01164572,\n",
              "       0.04682634, 0.10313343, 0.00214902, 0.        , 0.00182155,\n",
              "       0.00538539, 0.06895999, 0.05354881, 0.00862531, 0.01256689,\n",
              "       0.00214902, 0.        , 0.        , 0.05911343, 0.00171922,\n",
              "       0.0050493 , 0.07615203, 0.02542966, 0.0040737 , 0.        ,\n",
              "       0.        , 0.        , 0.13351442, 0.05028308, 0.00706226,\n",
              "       0.00409192, 0.01066748, 0.        , 0.        , 0.        ,\n",
              "       0.01008629, 0.00092101, 0.00606331, 0.00092101, 0.01746117,\n",
              "       0.        , 0.        , 0.        , 0.00470376, 0.00460997,\n",
              "       0.06418826, 0.0330292 , 0.0018181 , 0.00814896])"
            ]
          },
          "metadata": {
            "tags": []
          },
          "execution_count": 15
        }
      ]
    },
    {
      "cell_type": "code",
      "metadata": {
        "id": "61ZdHtMLAYW3",
        "outputId": "75095c0b-e81b-4268-8d18-c49c33cedb0b",
        "colab": {
          "base_uri": "https://localhost:8080/",
          "height": 452
        }
      },
      "source": [
        "# Random Forest\n",
        "training_accuracy = []\n",
        "test_accuracy = []\n",
        "n_estimators = range(2,15)\n",
        "\n",
        "for n in n_estimators:\n",
        "  forestModel = RandomForestClassifier(n_estimators=n, random_state=0)\n",
        "  forestModel.fit(X_train, y_train)\n",
        "  y_train_hat = forestModel.predict(X_train)\n",
        "  training_accuracy.append(accuracy_score(y_train, y_train_hat))\n",
        "  y_test_hat = forestModel.predict(X_test)\n",
        "  test_accuracy.append(accuracy_score(y_test, y_test_hat))\n",
        "\n",
        "estimator_check = pd.DataFrame(list(zip(n_estimators, training_accuracy, test_accuracy)),\n",
        "                                        columns = ['n_estimators', 'training_accuracy', 'test_accuracy'])\n",
        "\n",
        "estimator_check"
      ],
      "execution_count": 17,
      "outputs": [
        {
          "output_type": "execute_result",
          "data": {
            "text/html": [
              "<div>\n",
              "<style scoped>\n",
              "    .dataframe tbody tr th:only-of-type {\n",
              "        vertical-align: middle;\n",
              "    }\n",
              "\n",
              "    .dataframe tbody tr th {\n",
              "        vertical-align: top;\n",
              "    }\n",
              "\n",
              "    .dataframe thead th {\n",
              "        text-align: right;\n",
              "    }\n",
              "</style>\n",
              "<table border=\"1\" class=\"dataframe\">\n",
              "  <thead>\n",
              "    <tr style=\"text-align: right;\">\n",
              "      <th></th>\n",
              "      <th>n_estimators</th>\n",
              "      <th>training_accuracy</th>\n",
              "      <th>test_accuracy</th>\n",
              "    </tr>\n",
              "  </thead>\n",
              "  <tbody>\n",
              "    <tr>\n",
              "      <th>0</th>\n",
              "      <td>2</td>\n",
              "      <td>0.899761</td>\n",
              "      <td>0.757407</td>\n",
              "    </tr>\n",
              "    <tr>\n",
              "      <th>1</th>\n",
              "      <td>3</td>\n",
              "      <td>0.974543</td>\n",
              "      <td>0.842593</td>\n",
              "    </tr>\n",
              "    <tr>\n",
              "      <th>2</th>\n",
              "      <td>4</td>\n",
              "      <td>0.982498</td>\n",
              "      <td>0.894444</td>\n",
              "    </tr>\n",
              "    <tr>\n",
              "      <th>3</th>\n",
              "      <td>5</td>\n",
              "      <td>0.986476</td>\n",
              "      <td>0.911111</td>\n",
              "    </tr>\n",
              "    <tr>\n",
              "      <th>4</th>\n",
              "      <td>6</td>\n",
              "      <td>0.992840</td>\n",
              "      <td>0.922222</td>\n",
              "    </tr>\n",
              "    <tr>\n",
              "      <th>5</th>\n",
              "      <td>7</td>\n",
              "      <td>0.996818</td>\n",
              "      <td>0.929630</td>\n",
              "    </tr>\n",
              "    <tr>\n",
              "      <th>6</th>\n",
              "      <td>8</td>\n",
              "      <td>0.996818</td>\n",
              "      <td>0.942593</td>\n",
              "    </tr>\n",
              "    <tr>\n",
              "      <th>7</th>\n",
              "      <td>9</td>\n",
              "      <td>0.997613</td>\n",
              "      <td>0.946296</td>\n",
              "    </tr>\n",
              "    <tr>\n",
              "      <th>8</th>\n",
              "      <td>10</td>\n",
              "      <td>0.998409</td>\n",
              "      <td>0.950000</td>\n",
              "    </tr>\n",
              "    <tr>\n",
              "      <th>9</th>\n",
              "      <td>11</td>\n",
              "      <td>0.999204</td>\n",
              "      <td>0.955556</td>\n",
              "    </tr>\n",
              "    <tr>\n",
              "      <th>10</th>\n",
              "      <td>12</td>\n",
              "      <td>1.000000</td>\n",
              "      <td>0.959259</td>\n",
              "    </tr>\n",
              "    <tr>\n",
              "      <th>11</th>\n",
              "      <td>13</td>\n",
              "      <td>1.000000</td>\n",
              "      <td>0.953704</td>\n",
              "    </tr>\n",
              "    <tr>\n",
              "      <th>12</th>\n",
              "      <td>14</td>\n",
              "      <td>1.000000</td>\n",
              "      <td>0.959259</td>\n",
              "    </tr>\n",
              "  </tbody>\n",
              "</table>\n",
              "</div>"
            ],
            "text/plain": [
              "    n_estimators  training_accuracy  test_accuracy\n",
              "0              2           0.899761       0.757407\n",
              "1              3           0.974543       0.842593\n",
              "2              4           0.982498       0.894444\n",
              "3              5           0.986476       0.911111\n",
              "4              6           0.992840       0.922222\n",
              "5              7           0.996818       0.929630\n",
              "6              8           0.996818       0.942593\n",
              "7              9           0.997613       0.946296\n",
              "8             10           0.998409       0.950000\n",
              "9             11           0.999204       0.955556\n",
              "10            12           1.000000       0.959259\n",
              "11            13           1.000000       0.953704\n",
              "12            14           1.000000       0.959259"
            ]
          },
          "metadata": {
            "tags": []
          },
          "execution_count": 17
        }
      ]
    }
  ]
}