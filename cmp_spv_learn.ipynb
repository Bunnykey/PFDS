{
  "nbformat": 4,
  "nbformat_minor": 0,
  "metadata": {
    "colab": {
      "name": "cmp-spv-learn.ipynb",
      "provenance": [],
      "collapsed_sections": [],
      "authorship_tag": "ABX9TyO9YwyICG5xXmUd10RLrCga",
      "include_colab_link": true
    },
    "kernelspec": {
      "name": "python3",
      "display_name": "Python 3"
    }
  },
  "cells": [
    {
      "cell_type": "markdown",
      "metadata": {
        "id": "view-in-github",
        "colab_type": "text"
      },
      "source": [
        "<a href=\"https://colab.research.google.com/github/Bunnykey/PFDS/blob/master/cmp_spv_learn.ipynb\" target=\"_parent\"><img src=\"https://colab.research.google.com/assets/colab-badge.svg\" alt=\"Open In Colab\"/></a>"
      ]
    },
    {
      "cell_type": "code",
      "metadata": {
        "id": "wNDvM7C4f66y"
      },
      "source": [
        "import numpy as np\n",
        "import pandas as pd\n",
        "import matplotlib.pyplot as plt\n",
        "import sklearn\n",
        "from sklearn.datasets import load_digits"
      ],
      "execution_count": 1,
      "outputs": []
    },
    {
      "cell_type": "code",
      "metadata": {
        "id": "EPpym-IGgnY0",
        "outputId": "64341533-b939-4e53-a14b-fbd5b1f9a82a",
        "colab": {
          "base_uri": "https://localhost:8080/",
          "height": 35
        }
      },
      "source": [
        "X,y = load_digits(return_X_y = True)\n",
        "digit = load_digits()\n",
        "digit.keys()"
      ],
      "execution_count": 2,
      "outputs": [
        {
          "output_type": "execute_result",
          "data": {
            "text/plain": [
              "dict_keys(['data', 'target', 'target_names', 'images', 'DESCR'])"
            ]
          },
          "metadata": {
            "tags": []
          },
          "execution_count": 2
        }
      ]
    },
    {
      "cell_type": "code",
      "metadata": {
        "id": "c4JMrWAJg1gz",
        "outputId": "0d0ee6b8-f3cf-484e-8492-9544b60d09b1",
        "colab": {
          "base_uri": "https://localhost:8080/",
          "height": 35
        }
      },
      "source": [
        "digit.target_names"
      ],
      "execution_count": 3,
      "outputs": [
        {
          "output_type": "execute_result",
          "data": {
            "text/plain": [
              "array([0, 1, 2, 3, 4, 5, 6, 7, 8, 9])"
            ]
          },
          "metadata": {
            "tags": []
          },
          "execution_count": 3
        }
      ]
    },
    {
      "cell_type": "code",
      "metadata": {
        "id": "GyY_b50ijp36",
        "outputId": "6cdf48e5-1f7a-47ab-9508-2724aa4950db",
        "colab": {
          "base_uri": "https://localhost:8080/",
          "height": 845
        }
      },
      "source": [
        "print(digit.DESCR)"
      ],
      "execution_count": 4,
      "outputs": [
        {
          "output_type": "stream",
          "text": [
            ".. _digits_dataset:\n",
            "\n",
            "Optical recognition of handwritten digits dataset\n",
            "--------------------------------------------------\n",
            "\n",
            "**Data Set Characteristics:**\n",
            "\n",
            "    :Number of Instances: 5620\n",
            "    :Number of Attributes: 64\n",
            "    :Attribute Information: 8x8 image of integer pixels in the range 0..16.\n",
            "    :Missing Attribute Values: None\n",
            "    :Creator: E. Alpaydin (alpaydin '@' boun.edu.tr)\n",
            "    :Date: July; 1998\n",
            "\n",
            "This is a copy of the test set of the UCI ML hand-written digits datasets\n",
            "https://archive.ics.uci.edu/ml/datasets/Optical+Recognition+of+Handwritten+Digits\n",
            "\n",
            "The data set contains images of hand-written digits: 10 classes where\n",
            "each class refers to a digit.\n",
            "\n",
            "Preprocessing programs made available by NIST were used to extract\n",
            "normalized bitmaps of handwritten digits from a preprinted form. From a\n",
            "total of 43 people, 30 contributed to the training set and different 13\n",
            "to the test set. 32x32 bitmaps are divided into nonoverlapping blocks of\n",
            "4x4 and the number of on pixels are counted in each block. This generates\n",
            "an input matrix of 8x8 where each element is an integer in the range\n",
            "0..16. This reduces dimensionality and gives invariance to small\n",
            "distortions.\n",
            "\n",
            "For info on NIST preprocessing routines, see M. D. Garris, J. L. Blue, G.\n",
            "T. Candela, D. L. Dimmick, J. Geist, P. J. Grother, S. A. Janet, and C.\n",
            "L. Wilson, NIST Form-Based Handprint Recognition System, NISTIR 5469,\n",
            "1994.\n",
            "\n",
            ".. topic:: References\n",
            "\n",
            "  - C. Kaynak (1995) Methods of Combining Multiple Classifiers and Their\n",
            "    Applications to Handwritten Digit Recognition, MSc Thesis, Institute of\n",
            "    Graduate Studies in Science and Engineering, Bogazici University.\n",
            "  - E. Alpaydin, C. Kaynak (1998) Cascading Classifiers, Kybernetika.\n",
            "  - Ken Tang and Ponnuthurai N. Suganthan and Xi Yao and A. Kai Qin.\n",
            "    Linear dimensionalityreduction using relevance weighted LDA. School of\n",
            "    Electrical and Electronic Engineering Nanyang Technological University.\n",
            "    2005.\n",
            "  - Claudio Gentile. A New Approximate Maximal Margin Classification\n",
            "    Algorithm. NIPS. 2000.\n"
          ],
          "name": "stdout"
        }
      ]
    },
    {
      "cell_type": "markdown",
      "metadata": {
        "id": "DCfDoVLVjhi7"
      },
      "source": [
        "Maybe digit supervised (labeled) classification?"
      ]
    },
    {
      "cell_type": "code",
      "metadata": {
        "id": "5x6FzIPMnhgl",
        "outputId": "fec0ffdb-5424-4864-bd3b-8723ecbb49d8",
        "colab": {
          "base_uri": "https://localhost:8080/",
          "height": 35
        }
      },
      "source": [
        "digit.target"
      ],
      "execution_count": 5,
      "outputs": [
        {
          "output_type": "execute_result",
          "data": {
            "text/plain": [
              "array([0, 1, 2, ..., 8, 9, 8])"
            ]
          },
          "metadata": {
            "tags": []
          },
          "execution_count": 5
        }
      ]
    },
    {
      "cell_type": "code",
      "metadata": {
        "id": "OaK66ZNBnpfd"
      },
      "source": [
        "#X = digit.data\n",
        "#y = digit.target\n",
        "#X, y"
      ],
      "execution_count": 6,
      "outputs": []
    },
    {
      "cell_type": "code",
      "metadata": {
        "id": "cG7IJb5hqlLy"
      },
      "source": [
        "from sklearn.model_selection import train_test_split\n",
        "\n",
        "X_train, X_test, y_train, y_test = train_test_split(X, y, test_size = 0.3, random_state = 42)"
      ],
      "execution_count": 7,
      "outputs": []
    },
    {
      "cell_type": "code",
      "metadata": {
        "id": "5bBbytkLrDh_",
        "outputId": "301d9ed6-6b5d-49b9-e902-d057561a0c7b",
        "colab": {
          "base_uri": "https://localhost:8080/",
          "height": 35
        }
      },
      "source": [
        "from sklearn.preprocessing import StandardScaler\n",
        "from sklearn.neighbors import KNeighborsClassifier\n",
        "from sklearn.pipeline import Pipeline\n",
        "from sklearn.linear_model import LinearRegression, LogisticRegression\n",
        "from sklearn.tree import DecisionTreeClassifier\n",
        "from sklearn.ensemble import RandomForestClassifier\n",
        "\n",
        "scaler = StandardScaler()\n",
        "scaler.fit(X_train, y_train)"
      ],
      "execution_count": 8,
      "outputs": [
        {
          "output_type": "execute_result",
          "data": {
            "text/plain": [
              "StandardScaler(copy=True, with_mean=True, with_std=True)"
            ]
          },
          "metadata": {
            "tags": []
          },
          "execution_count": 8
        }
      ]
    },
    {
      "cell_type": "markdown",
      "metadata": {
        "id": "2DU2r18dQKDZ"
      },
      "source": [
        "# Hyperparameters\n",
        "Decision Tree : min_samples_leaf, max_depth\n",
        "K-nearest neighbors : n_neighbors\n",
        "Random Forests : n_estimators, max_features"
      ]
    },
    {
      "cell_type": "code",
      "metadata": {
        "id": "1zlS-zplVbPd",
        "outputId": "42d0c3ed-6ca0-4f38-aef2-2bbdbcecf653",
        "colab": {
          "base_uri": "https://localhost:8080/",
          "height": 638
        }
      },
      "source": [
        "# self descriptive code\n",
        "from sklearn.metrics import accuracy_score\n",
        "\n",
        "training_accuracy = []\n",
        "test_accuracy = []\n",
        "leaf_settings = range(1,20)\n",
        "\n",
        "for leaf in leaf_settings:\n",
        "  treeModel = DecisionTreeClassifier(min_samples_leaf=leaf, random_state=0)\n",
        "  treeModel.fit(X_train, y_train)\n",
        "  y_train_hat = treeModel.predict(X_train)\n",
        "  training_accuracy.append(accuracy_score(y_train, y_train_hat))\n",
        "  y_test_hat = treeModel.predict(X_test)\n",
        "  test_accuracy.append(accuracy_score(y_test, y_test_hat))\n",
        "\n",
        "leaf_accuracy_check = pd.DataFrame(list(zip(leaf_settings, training_accuracy, test_accuracy)),\n",
        "                                   columns = ['min_samples_leaf', 'training_accuracy', 'test_accuracy'])\n",
        "\n",
        "leaf_accuracy_check"
      ],
      "execution_count": 9,
      "outputs": [
        {
          "output_type": "execute_result",
          "data": {
            "text/html": [
              "<div>\n",
              "<style scoped>\n",
              "    .dataframe tbody tr th:only-of-type {\n",
              "        vertical-align: middle;\n",
              "    }\n",
              "\n",
              "    .dataframe tbody tr th {\n",
              "        vertical-align: top;\n",
              "    }\n",
              "\n",
              "    .dataframe thead th {\n",
              "        text-align: right;\n",
              "    }\n",
              "</style>\n",
              "<table border=\"1\" class=\"dataframe\">\n",
              "  <thead>\n",
              "    <tr style=\"text-align: right;\">\n",
              "      <th></th>\n",
              "      <th>min_samples_leaf</th>\n",
              "      <th>training_accuracy</th>\n",
              "      <th>test_accuracy</th>\n",
              "    </tr>\n",
              "  </thead>\n",
              "  <tbody>\n",
              "    <tr>\n",
              "      <th>0</th>\n",
              "      <td>1</td>\n",
              "      <td>1.000000</td>\n",
              "      <td>0.851852</td>\n",
              "    </tr>\n",
              "    <tr>\n",
              "      <th>1</th>\n",
              "      <td>2</td>\n",
              "      <td>0.964996</td>\n",
              "      <td>0.829630</td>\n",
              "    </tr>\n",
              "    <tr>\n",
              "      <th>2</th>\n",
              "      <td>3</td>\n",
              "      <td>0.947494</td>\n",
              "      <td>0.857407</td>\n",
              "    </tr>\n",
              "    <tr>\n",
              "      <th>3</th>\n",
              "      <td>4</td>\n",
              "      <td>0.928401</td>\n",
              "      <td>0.859259</td>\n",
              "    </tr>\n",
              "    <tr>\n",
              "      <th>4</th>\n",
              "      <td>5</td>\n",
              "      <td>0.914081</td>\n",
              "      <td>0.846296</td>\n",
              "    </tr>\n",
              "    <tr>\n",
              "      <th>5</th>\n",
              "      <td>6</td>\n",
              "      <td>0.902944</td>\n",
              "      <td>0.837037</td>\n",
              "    </tr>\n",
              "    <tr>\n",
              "      <th>6</th>\n",
              "      <td>7</td>\n",
              "      <td>0.890215</td>\n",
              "      <td>0.825926</td>\n",
              "    </tr>\n",
              "    <tr>\n",
              "      <th>7</th>\n",
              "      <td>8</td>\n",
              "      <td>0.883850</td>\n",
              "      <td>0.825926</td>\n",
              "    </tr>\n",
              "    <tr>\n",
              "      <th>8</th>\n",
              "      <td>9</td>\n",
              "      <td>0.872713</td>\n",
              "      <td>0.811111</td>\n",
              "    </tr>\n",
              "    <tr>\n",
              "      <th>9</th>\n",
              "      <td>10</td>\n",
              "      <td>0.871122</td>\n",
              "      <td>0.811111</td>\n",
              "    </tr>\n",
              "    <tr>\n",
              "      <th>10</th>\n",
              "      <td>11</td>\n",
              "      <td>0.869531</td>\n",
              "      <td>0.814815</td>\n",
              "    </tr>\n",
              "    <tr>\n",
              "      <th>11</th>\n",
              "      <td>12</td>\n",
              "      <td>0.867144</td>\n",
              "      <td>0.816667</td>\n",
              "    </tr>\n",
              "    <tr>\n",
              "      <th>12</th>\n",
              "      <td>13</td>\n",
              "      <td>0.862371</td>\n",
              "      <td>0.811111</td>\n",
              "    </tr>\n",
              "    <tr>\n",
              "      <th>13</th>\n",
              "      <td>14</td>\n",
              "      <td>0.859189</td>\n",
              "      <td>0.811111</td>\n",
              "    </tr>\n",
              "    <tr>\n",
              "      <th>14</th>\n",
              "      <td>15</td>\n",
              "      <td>0.851233</td>\n",
              "      <td>0.820370</td>\n",
              "    </tr>\n",
              "    <tr>\n",
              "      <th>15</th>\n",
              "      <td>16</td>\n",
              "      <td>0.847255</td>\n",
              "      <td>0.800000</td>\n",
              "    </tr>\n",
              "    <tr>\n",
              "      <th>16</th>\n",
              "      <td>17</td>\n",
              "      <td>0.841687</td>\n",
              "      <td>0.792593</td>\n",
              "    </tr>\n",
              "    <tr>\n",
              "      <th>17</th>\n",
              "      <td>18</td>\n",
              "      <td>0.837709</td>\n",
              "      <td>0.794444</td>\n",
              "    </tr>\n",
              "    <tr>\n",
              "      <th>18</th>\n",
              "      <td>19</td>\n",
              "      <td>0.832936</td>\n",
              "      <td>0.787037</td>\n",
              "    </tr>\n",
              "  </tbody>\n",
              "</table>\n",
              "</div>"
            ],
            "text/plain": [
              "    min_samples_leaf  training_accuracy  test_accuracy\n",
              "0                  1           1.000000       0.851852\n",
              "1                  2           0.964996       0.829630\n",
              "2                  3           0.947494       0.857407\n",
              "3                  4           0.928401       0.859259\n",
              "4                  5           0.914081       0.846296\n",
              "5                  6           0.902944       0.837037\n",
              "6                  7           0.890215       0.825926\n",
              "7                  8           0.883850       0.825926\n",
              "8                  9           0.872713       0.811111\n",
              "9                 10           0.871122       0.811111\n",
              "10                11           0.869531       0.814815\n",
              "11                12           0.867144       0.816667\n",
              "12                13           0.862371       0.811111\n",
              "13                14           0.859189       0.811111\n",
              "14                15           0.851233       0.820370\n",
              "15                16           0.847255       0.800000\n",
              "16                17           0.841687       0.792593\n",
              "17                18           0.837709       0.794444\n",
              "18                19           0.832936       0.787037"
            ]
          },
          "metadata": {
            "tags": []
          },
          "execution_count": 9
        }
      ]
    },
    {
      "cell_type": "code",
      "metadata": {
        "id": "v_onTCVRiMHN",
        "outputId": "e5f9bb63-5c68-481a-c88e-f4ef2659ec4d",
        "colab": {
          "base_uri": "https://localhost:8080/",
          "height": 328
        }
      },
      "source": [
        "# self descriptive code\n",
        "training_accuracy = []\n",
        "test_accuracy = []\n",
        "max_depth = [2,3,5,7,10,11,12,13,14]\n",
        "\n",
        "for depth in max_depth:\n",
        "  treeModel = DecisionTreeClassifier(max_depth=depth, random_state=0)\n",
        "  treeModel.fit(X_train, y_train)\n",
        "  y_train_hat = treeModel.predict(X_train)\n",
        "  training_accuracy.append(accuracy_score(y_train, y_train_hat))\n",
        "  y_test_hat = treeModel.predict(X_test)\n",
        "  test_accuracy.append(accuracy_score(y_test, y_test_hat))\n",
        "\n",
        "max_depth_check = pd.DataFrame(list(zip(max_depth, training_accuracy, test_accuracy)),\n",
        "                                        columns = ['max_depth', 'training_accuracy', 'test_accuracy'])\n",
        "\n",
        "max_depth_check"
      ],
      "execution_count": 10,
      "outputs": [
        {
          "output_type": "execute_result",
          "data": {
            "text/html": [
              "<div>\n",
              "<style scoped>\n",
              "    .dataframe tbody tr th:only-of-type {\n",
              "        vertical-align: middle;\n",
              "    }\n",
              "\n",
              "    .dataframe tbody tr th {\n",
              "        vertical-align: top;\n",
              "    }\n",
              "\n",
              "    .dataframe thead th {\n",
              "        text-align: right;\n",
              "    }\n",
              "</style>\n",
              "<table border=\"1\" class=\"dataframe\">\n",
              "  <thead>\n",
              "    <tr style=\"text-align: right;\">\n",
              "      <th></th>\n",
              "      <th>max_depth</th>\n",
              "      <th>training_accuracy</th>\n",
              "      <th>test_accuracy</th>\n",
              "    </tr>\n",
              "  </thead>\n",
              "  <tbody>\n",
              "    <tr>\n",
              "      <th>0</th>\n",
              "      <td>2</td>\n",
              "      <td>0.323787</td>\n",
              "      <td>0.300000</td>\n",
              "    </tr>\n",
              "    <tr>\n",
              "      <th>1</th>\n",
              "      <td>3</td>\n",
              "      <td>0.469372</td>\n",
              "      <td>0.475926</td>\n",
              "    </tr>\n",
              "    <tr>\n",
              "      <th>2</th>\n",
              "      <td>5</td>\n",
              "      <td>0.670644</td>\n",
              "      <td>0.661111</td>\n",
              "    </tr>\n",
              "    <tr>\n",
              "      <th>3</th>\n",
              "      <td>7</td>\n",
              "      <td>0.895784</td>\n",
              "      <td>0.816667</td>\n",
              "    </tr>\n",
              "    <tr>\n",
              "      <th>4</th>\n",
              "      <td>10</td>\n",
              "      <td>0.974543</td>\n",
              "      <td>0.850000</td>\n",
              "    </tr>\n",
              "    <tr>\n",
              "      <th>5</th>\n",
              "      <td>11</td>\n",
              "      <td>0.989658</td>\n",
              "      <td>0.851852</td>\n",
              "    </tr>\n",
              "    <tr>\n",
              "      <th>6</th>\n",
              "      <td>12</td>\n",
              "      <td>0.996818</td>\n",
              "      <td>0.850000</td>\n",
              "    </tr>\n",
              "    <tr>\n",
              "      <th>7</th>\n",
              "      <td>13</td>\n",
              "      <td>0.999204</td>\n",
              "      <td>0.855556</td>\n",
              "    </tr>\n",
              "    <tr>\n",
              "      <th>8</th>\n",
              "      <td>14</td>\n",
              "      <td>1.000000</td>\n",
              "      <td>0.851852</td>\n",
              "    </tr>\n",
              "  </tbody>\n",
              "</table>\n",
              "</div>"
            ],
            "text/plain": [
              "   max_depth  training_accuracy  test_accuracy\n",
              "0          2           0.323787       0.300000\n",
              "1          3           0.469372       0.475926\n",
              "2          5           0.670644       0.661111\n",
              "3          7           0.895784       0.816667\n",
              "4         10           0.974543       0.850000\n",
              "5         11           0.989658       0.851852\n",
              "6         12           0.996818       0.850000\n",
              "7         13           0.999204       0.855556\n",
              "8         14           1.000000       0.851852"
            ]
          },
          "metadata": {
            "tags": []
          },
          "execution_count": 10
        }
      ]
    },
    {
      "cell_type": "code",
      "metadata": {
        "id": "fadYQpdHpLqE"
      },
      "source": [
        "# to sustain the model to be un-overfitted, set max_depth as 10 and min_samples_leaf as minimum\n",
        "\n",
        "leaf = 1\n",
        "depth = 10\n",
        "\n",
        "clf = DecisionTreeClassifier(min_samples_leaf=leaf, max_depth=depth, random_state=0)\n",
        "\n",
        "from sklearn import tree\n",
        "clf.fit(X_train, y_train)\n",
        "tree.plot_tree(treeModel)"
      ],
      "execution_count": null,
      "outputs": []
    },
    {
      "cell_type": "markdown",
      "metadata": {
        "id": "bCOPpoONIs-G"
      },
      "source": [
        "![다운로드.png](data:image/png;base64,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)"
      ]
    },
    {
      "cell_type": "code",
      "metadata": {
        "id": "iJFJnZh0-GIk",
        "outputId": "c4b246af-0863-481c-b67d-f35cdde9a464",
        "colab": {
          "base_uri": "https://localhost:8080/",
          "height": 251
        }
      },
      "source": [
        "clf.feature_importances_"
      ],
      "execution_count": 15,
      "outputs": [
        {
          "output_type": "execute_result",
          "data": {
            "text/plain": [
              "array([0.        , 0.        , 0.00889241, 0.        , 0.00488304,\n",
              "       0.04474059, 0.        , 0.        , 0.        , 0.00179355,\n",
              "       0.04467438, 0.        , 0.01252085, 0.01673709, 0.00255836,\n",
              "       0.00268409, 0.        , 0.00092101, 0.01367564, 0.01164572,\n",
              "       0.04682634, 0.10313343, 0.00214902, 0.        , 0.00182155,\n",
              "       0.00538539, 0.06895999, 0.05354881, 0.00862531, 0.01256689,\n",
              "       0.00214902, 0.        , 0.        , 0.05911343, 0.00171922,\n",
              "       0.0050493 , 0.07615203, 0.02542966, 0.0040737 , 0.        ,\n",
              "       0.        , 0.        , 0.13351442, 0.05028308, 0.00706226,\n",
              "       0.00409192, 0.01066748, 0.        , 0.        , 0.        ,\n",
              "       0.01008629, 0.00092101, 0.00606331, 0.00092101, 0.01746117,\n",
              "       0.        , 0.        , 0.        , 0.00470376, 0.00460997,\n",
              "       0.06418826, 0.0330292 , 0.0018181 , 0.00814896])"
            ]
          },
          "metadata": {
            "tags": []
          },
          "execution_count": 15
        }
      ]
    },
    {
      "cell_type": "code",
      "metadata": {
        "id": "61ZdHtMLAYW3",
        "outputId": "75095c0b-e81b-4268-8d18-c49c33cedb0b",
        "colab": {
          "base_uri": "https://localhost:8080/",
          "height": 452
        }
      },
      "source": [
        "# Random Forest\n",
        "training_accuracy = []\n",
        "test_accuracy = []\n",
        "n_estimators = range(2,15)\n",
        "\n",
        "for n in n_estimators:\n",
        "  forestModel = RandomForestClassifier(n_estimators=n, random_state=0)\n",
        "  forestModel.fit(X_train, y_train)\n",
        "  y_train_hat = forestModel.predict(X_train)\n",
        "  training_accuracy.append(accuracy_score(y_train, y_train_hat))\n",
        "  y_test_hat = forestModel.predict(X_test)\n",
        "  test_accuracy.append(accuracy_score(y_test, y_test_hat))\n",
        "\n",
        "estimator_check = pd.DataFrame(list(zip(n_estimators, training_accuracy, test_accuracy)),\n",
        "                                        columns = ['n_estimators', 'training_accuracy', 'test_accuracy'])\n",
        "\n",
        "estimator_check"
      ],
      "execution_count": 17,
      "outputs": [
        {
          "output_type": "execute_result",
          "data": {
            "text/html": [
              "<div>\n",
              "<style scoped>\n",
              "    .dataframe tbody tr th:only-of-type {\n",
              "        vertical-align: middle;\n",
              "    }\n",
              "\n",
              "    .dataframe tbody tr th {\n",
              "        vertical-align: top;\n",
              "    }\n",
              "\n",
              "    .dataframe thead th {\n",
              "        text-align: right;\n",
              "    }\n",
              "</style>\n",
              "<table border=\"1\" class=\"dataframe\">\n",
              "  <thead>\n",
              "    <tr style=\"text-align: right;\">\n",
              "      <th></th>\n",
              "      <th>n_estimators</th>\n",
              "      <th>training_accuracy</th>\n",
              "      <th>test_accuracy</th>\n",
              "    </tr>\n",
              "  </thead>\n",
              "  <tbody>\n",
              "    <tr>\n",
              "      <th>0</th>\n",
              "      <td>2</td>\n",
              "      <td>0.899761</td>\n",
              "      <td>0.757407</td>\n",
              "    </tr>\n",
              "    <tr>\n",
              "      <th>1</th>\n",
              "      <td>3</td>\n",
              "      <td>0.974543</td>\n",
              "      <td>0.842593</td>\n",
              "    </tr>\n",
              "    <tr>\n",
              "      <th>2</th>\n",
              "      <td>4</td>\n",
              "      <td>0.982498</td>\n",
              "      <td>0.894444</td>\n",
              "    </tr>\n",
              "    <tr>\n",
              "      <th>3</th>\n",
              "      <td>5</td>\n",
              "      <td>0.986476</td>\n",
              "      <td>0.911111</td>\n",
              "    </tr>\n",
              "    <tr>\n",
              "      <th>4</th>\n",
              "      <td>6</td>\n",
              "      <td>0.992840</td>\n",
              "      <td>0.922222</td>\n",
              "    </tr>\n",
              "    <tr>\n",
              "      <th>5</th>\n",
              "      <td>7</td>\n",
              "      <td>0.996818</td>\n",
              "      <td>0.929630</td>\n",
              "    </tr>\n",
              "    <tr>\n",
              "      <th>6</th>\n",
              "      <td>8</td>\n",
              "      <td>0.996818</td>\n",
              "      <td>0.942593</td>\n",
              "    </tr>\n",
              "    <tr>\n",
              "      <th>7</th>\n",
              "      <td>9</td>\n",
              "      <td>0.997613</td>\n",
              "      <td>0.946296</td>\n",
              "    </tr>\n",
              "    <tr>\n",
              "      <th>8</th>\n",
              "      <td>10</td>\n",
              "      <td>0.998409</td>\n",
              "      <td>0.950000</td>\n",
              "    </tr>\n",
              "    <tr>\n",
              "      <th>9</th>\n",
              "      <td>11</td>\n",
              "      <td>0.999204</td>\n",
              "      <td>0.955556</td>\n",
              "    </tr>\n",
              "    <tr>\n",
              "      <th>10</th>\n",
              "      <td>12</td>\n",
              "      <td>1.000000</td>\n",
              "      <td>0.959259</td>\n",
              "    </tr>\n",
              "    <tr>\n",
              "      <th>11</th>\n",
              "      <td>13</td>\n",
              "      <td>1.000000</td>\n",
              "      <td>0.953704</td>\n",
              "    </tr>\n",
              "    <tr>\n",
              "      <th>12</th>\n",
              "      <td>14</td>\n",
              "      <td>1.000000</td>\n",
              "      <td>0.959259</td>\n",
              "    </tr>\n",
              "  </tbody>\n",
              "</table>\n",
              "</div>"
            ],
            "text/plain": [
              "    n_estimators  training_accuracy  test_accuracy\n",
              "0              2           0.899761       0.757407\n",
              "1              3           0.974543       0.842593\n",
              "2              4           0.982498       0.894444\n",
              "3              5           0.986476       0.911111\n",
              "4              6           0.992840       0.922222\n",
              "5              7           0.996818       0.929630\n",
              "6              8           0.996818       0.942593\n",
              "7              9           0.997613       0.946296\n",
              "8             10           0.998409       0.950000\n",
              "9             11           0.999204       0.955556\n",
              "10            12           1.000000       0.959259\n",
              "11            13           1.000000       0.953704\n",
              "12            14           1.000000       0.959259"
            ]
          },
          "metadata": {
            "tags": []
          },
          "execution_count": 17
        }
      ]
    },
    {
      "cell_type": "code",
      "metadata": {
        "id": "CHrGpV99JltQ",
        "outputId": "6bbfea9e-f8f3-4dde-e169-fd09c53aa2e0",
        "colab": {
          "base_uri": "https://localhost:8080/",
          "height": 452
        }
      },
      "source": [
        "#knn classifier\n",
        "training_accuracy = []\n",
        "test_accuracy = []\n",
        "n_neighbors = range(2,15)\n",
        "\n",
        "for n in n_neighbors:\n",
        "  knnModel = KNeighborsClassifier(n_neighbors=n)\n",
        "  knnModel.fit(X_train, y_train)\n",
        "  y_train_hat = knnModel.predict(X_train)\n",
        "  training_accuracy.append(accuracy_score(y_train, y_train_hat))\n",
        "  y_test_hat = knnModel.predict(X_test)\n",
        "  test_accuracy.append(accuracy_score(y_test, y_test_hat))\n",
        "\n",
        "neighbor_check = pd.DataFrame(list(zip(n_neighbors, training_accuracy, test_accuracy)),\n",
        "                                        columns = ['n_neighbors', 'training_accuracy', 'test_accuracy'])\n",
        "\n",
        "neighbor_check"
      ],
      "execution_count": 21,
      "outputs": [
        {
          "output_type": "execute_result",
          "data": {
            "text/html": [
              "<div>\n",
              "<style scoped>\n",
              "    .dataframe tbody tr th:only-of-type {\n",
              "        vertical-align: middle;\n",
              "    }\n",
              "\n",
              "    .dataframe tbody tr th {\n",
              "        vertical-align: top;\n",
              "    }\n",
              "\n",
              "    .dataframe thead th {\n",
              "        text-align: right;\n",
              "    }\n",
              "</style>\n",
              "<table border=\"1\" class=\"dataframe\">\n",
              "  <thead>\n",
              "    <tr style=\"text-align: right;\">\n",
              "      <th></th>\n",
              "      <th>n_neighbors</th>\n",
              "      <th>training_accuracy</th>\n",
              "      <th>test_accuracy</th>\n",
              "    </tr>\n",
              "  </thead>\n",
              "  <tbody>\n",
              "    <tr>\n",
              "      <th>0</th>\n",
              "      <td>2</td>\n",
              "      <td>0.990453</td>\n",
              "      <td>0.983333</td>\n",
              "    </tr>\n",
              "    <tr>\n",
              "      <th>1</th>\n",
              "      <td>3</td>\n",
              "      <td>0.991249</td>\n",
              "      <td>0.988889</td>\n",
              "    </tr>\n",
              "    <tr>\n",
              "      <th>2</th>\n",
              "      <td>4</td>\n",
              "      <td>0.991249</td>\n",
              "      <td>0.987037</td>\n",
              "    </tr>\n",
              "    <tr>\n",
              "      <th>3</th>\n",
              "      <td>5</td>\n",
              "      <td>0.989658</td>\n",
              "      <td>0.992593</td>\n",
              "    </tr>\n",
              "    <tr>\n",
              "      <th>4</th>\n",
              "      <td>6</td>\n",
              "      <td>0.991249</td>\n",
              "      <td>0.994444</td>\n",
              "    </tr>\n",
              "    <tr>\n",
              "      <th>5</th>\n",
              "      <td>7</td>\n",
              "      <td>0.988862</td>\n",
              "      <td>0.990741</td>\n",
              "    </tr>\n",
              "    <tr>\n",
              "      <th>6</th>\n",
              "      <td>8</td>\n",
              "      <td>0.984885</td>\n",
              "      <td>0.987037</td>\n",
              "    </tr>\n",
              "    <tr>\n",
              "      <th>7</th>\n",
              "      <td>9</td>\n",
              "      <td>0.985680</td>\n",
              "      <td>0.981481</td>\n",
              "    </tr>\n",
              "    <tr>\n",
              "      <th>8</th>\n",
              "      <td>10</td>\n",
              "      <td>0.982498</td>\n",
              "      <td>0.981481</td>\n",
              "    </tr>\n",
              "    <tr>\n",
              "      <th>9</th>\n",
              "      <td>11</td>\n",
              "      <td>0.984089</td>\n",
              "      <td>0.979630</td>\n",
              "    </tr>\n",
              "    <tr>\n",
              "      <th>10</th>\n",
              "      <td>12</td>\n",
              "      <td>0.980907</td>\n",
              "      <td>0.977778</td>\n",
              "    </tr>\n",
              "    <tr>\n",
              "      <th>11</th>\n",
              "      <td>13</td>\n",
              "      <td>0.982498</td>\n",
              "      <td>0.977778</td>\n",
              "    </tr>\n",
              "    <tr>\n",
              "      <th>12</th>\n",
              "      <td>14</td>\n",
              "      <td>0.978520</td>\n",
              "      <td>0.975926</td>\n",
              "    </tr>\n",
              "  </tbody>\n",
              "</table>\n",
              "</div>"
            ],
            "text/plain": [
              "    n_neighbors  training_accuracy  test_accuracy\n",
              "0             2           0.990453       0.983333\n",
              "1             3           0.991249       0.988889\n",
              "2             4           0.991249       0.987037\n",
              "3             5           0.989658       0.992593\n",
              "4             6           0.991249       0.994444\n",
              "5             7           0.988862       0.990741\n",
              "6             8           0.984885       0.987037\n",
              "7             9           0.985680       0.981481\n",
              "8            10           0.982498       0.981481\n",
              "9            11           0.984089       0.979630\n",
              "10           12           0.980907       0.977778\n",
              "11           13           0.982498       0.977778\n",
              "12           14           0.978520       0.975926"
            ]
          },
          "metadata": {
            "tags": []
          },
          "execution_count": 21
        }
      ]
    }
  ]
}