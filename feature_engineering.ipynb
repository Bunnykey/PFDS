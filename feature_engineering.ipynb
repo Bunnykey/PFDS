{
  "nbformat": 4,
  "nbformat_minor": 0,
  "metadata": {
    "colab": {
      "name": "feature_engineering.ipynb",
      "provenance": [],
      "collapsed_sections": [],
      "authorship_tag": "ABX9TyPHesugPiLH/5CfplePBYce",
      "include_colab_link": true
    },
    "kernelspec": {
      "name": "python3",
      "display_name": "Python 3"
    }
  },
  "cells": [
    {
      "cell_type": "markdown",
      "metadata": {
        "id": "view-in-github",
        "colab_type": "text"
      },
      "source": [
        "<a href=\"https://colab.research.google.com/github/Bunnykey/PFDS/blob/master/feature_engineering.ipynb\" target=\"_parent\"><img src=\"https://colab.research.google.com/assets/colab-badge.svg\" alt=\"Open In Colab\"/></a>"
      ]
    },
    {
      "cell_type": "code",
      "metadata": {
        "id": "VZAdbgH3sTeU"
      },
      "source": [
        "import numpy as np\n",
        "import pandas as pd\n",
        "import matplotlib.pyplot as plt"
      ],
      "execution_count": 5,
      "outputs": []
    },
    {
      "cell_type": "code",
      "metadata": {
        "colab": {
          "base_uri": "https://localhost:8080/"
        },
        "id": "ICHrme80te29",
        "outputId": "0deb1946-4ce9-407c-fac6-47211b1d43d4"
      },
      "source": [
        "# data load\n",
        "\n",
        "from sklearn.datasets import fetch_california_housing\n",
        "\n",
        "X,y = fetch_california_housing(return_X_y = True)\n",
        "X, y"
      ],
      "execution_count": 6,
      "outputs": [
        {
          "output_type": "execute_result",
          "data": {
            "text/plain": [
              "(array([[   8.3252    ,   41.        ,    6.98412698, ...,    2.55555556,\n",
              "           37.88      , -122.23      ],\n",
              "        [   8.3014    ,   21.        ,    6.23813708, ...,    2.10984183,\n",
              "           37.86      , -122.22      ],\n",
              "        [   7.2574    ,   52.        ,    8.28813559, ...,    2.80225989,\n",
              "           37.85      , -122.24      ],\n",
              "        ...,\n",
              "        [   1.7       ,   17.        ,    5.20554273, ...,    2.3256351 ,\n",
              "           39.43      , -121.22      ],\n",
              "        [   1.8672    ,   18.        ,    5.32951289, ...,    2.12320917,\n",
              "           39.43      , -121.32      ],\n",
              "        [   2.3886    ,   16.        ,    5.25471698, ...,    2.61698113,\n",
              "           39.37      , -121.24      ]]),\n",
              " array([4.526, 3.585, 3.521, ..., 0.923, 0.847, 0.894]))"
            ]
          },
          "metadata": {
            "tags": []
          },
          "execution_count": 6
        }
      ]
    },
    {
      "cell_type": "code",
      "metadata": {
        "colab": {
          "base_uri": "https://localhost:8080/",
          "height": 161
        },
        "id": "G7a1w3gVAwvN",
        "outputId": "dccba147-01cd-4024-b8eb-44563f5d101b"
      },
      "source": [
        "house = fetch_california_housing()\n",
        "house.DESCR"
      ],
      "execution_count": 7,
      "outputs": [
        {
          "output_type": "execute_result",
          "data": {
            "application/vnd.google.colaboratory.intrinsic+json": {
              "type": "string"
            },
            "text/plain": [
              "'.. _california_housing_dataset:\\n\\nCalifornia Housing dataset\\n--------------------------\\n\\n**Data Set Characteristics:**\\n\\n    :Number of Instances: 20640\\n\\n    :Number of Attributes: 8 numeric, predictive attributes and the target\\n\\n    :Attribute Information:\\n        - MedInc        median income in block\\n        - HouseAge      median house age in block\\n        - AveRooms      average number of rooms\\n        - AveBedrms     average number of bedrooms\\n        - Population    block population\\n        - AveOccup      average house occupancy\\n        - Latitude      house block latitude\\n        - Longitude     house block longitude\\n\\n    :Missing Attribute Values: None\\n\\nThis dataset was obtained from the StatLib repository.\\nhttp://lib.stat.cmu.edu/datasets/\\n\\nThe target variable is the median house value for California districts.\\n\\nThis dataset was derived from the 1990 U.S. census, using one row per census\\nblock group. A block group is the smallest geographical unit for which the U.S.\\nCensus Bureau publishes sample data (a block group typically has a population\\nof 600 to 3,000 people).\\n\\nIt can be downloaded/loaded using the\\n:func:`sklearn.datasets.fetch_california_housing` function.\\n\\n.. topic:: References\\n\\n    - Pace, R. Kelley and Ronald Barry, Sparse Spatial Autoregressions,\\n      Statistics and Probability Letters, 33 (1997) 291-297\\n'"
            ]
          },
          "metadata": {
            "tags": []
          },
          "execution_count": 7
        }
      ]
    },
    {
      "cell_type": "code",
      "metadata": {
        "colab": {
          "base_uri": "https://localhost:8080/"
        },
        "id": "MOBM7lvQBEGP",
        "outputId": "4ef30cba-679e-4219-f35d-3df75211a5b7"
      },
      "source": [
        "data = pd.DataFrame(house.data, columns = house.feature_names)\n",
        "target = pd.DataFrame(house.target)\n",
        "\n",
        "data, target"
      ],
      "execution_count": 8,
      "outputs": [
        {
          "output_type": "execute_result",
          "data": {
            "text/plain": [
              "(       MedInc  HouseAge  AveRooms  ...  AveOccup  Latitude  Longitude\n",
              " 0      8.3252      41.0  6.984127  ...  2.555556     37.88    -122.23\n",
              " 1      8.3014      21.0  6.238137  ...  2.109842     37.86    -122.22\n",
              " 2      7.2574      52.0  8.288136  ...  2.802260     37.85    -122.24\n",
              " 3      5.6431      52.0  5.817352  ...  2.547945     37.85    -122.25\n",
              " 4      3.8462      52.0  6.281853  ...  2.181467     37.85    -122.25\n",
              " ...       ...       ...       ...  ...       ...       ...        ...\n",
              " 20635  1.5603      25.0  5.045455  ...  2.560606     39.48    -121.09\n",
              " 20636  2.5568      18.0  6.114035  ...  3.122807     39.49    -121.21\n",
              " 20637  1.7000      17.0  5.205543  ...  2.325635     39.43    -121.22\n",
              " 20638  1.8672      18.0  5.329513  ...  2.123209     39.43    -121.32\n",
              " 20639  2.3886      16.0  5.254717  ...  2.616981     39.37    -121.24\n",
              " \n",
              " [20640 rows x 8 columns],            0\n",
              " 0      4.526\n",
              " 1      3.585\n",
              " 2      3.521\n",
              " 3      3.413\n",
              " 4      3.422\n",
              " ...      ...\n",
              " 20635  0.781\n",
              " 20636  0.771\n",
              " 20637  0.923\n",
              " 20638  0.847\n",
              " 20639  0.894\n",
              " \n",
              " [20640 rows x 1 columns])"
            ]
          },
          "metadata": {
            "tags": []
          },
          "execution_count": 8
        }
      ]
    },
    {
      "cell_type": "code",
      "metadata": {
        "id": "LAzNkLx0DjKg"
      },
      "source": [
        "from sklearn.model_selection import train_test_split\n",
        "from sklearn.linear_model import LinearRegression\n",
        "\n",
        "X_train, X_test, y_train, y_test = train_test_split(data[['HouseAge']], target, test_size = 0.3, random_state = 42)\n",
        "\n",
        "linear_estimator = LinearRegression()"
      ],
      "execution_count": 9,
      "outputs": []
    },
    {
      "cell_type": "code",
      "metadata": {
        "colab": {
          "base_uri": "https://localhost:8080/"
        },
        "id": "nIUw48InlipZ",
        "outputId": "b1aa5f31-c5d1-45fe-af13-4f274102aab7"
      },
      "source": [
        "data['HouseAge'].max(), data['HouseAge'].min()"
      ],
      "execution_count": 10,
      "outputs": [
        {
          "output_type": "execute_result",
          "data": {
            "text/plain": [
              "(52.0, 1.0)"
            ]
          },
          "metadata": {
            "tags": []
          },
          "execution_count": 10
        }
      ]
    },
    {
      "cell_type": "code",
      "metadata": {
        "colab": {
          "base_uri": "https://localhost:8080/"
        },
        "id": "Yoh7WK5uqb1C",
        "outputId": "f780d705-55bd-4bca-9d23-cfe65d5eede6"
      },
      "source": [
        "mybins = np.linspace(0, 50, 10)\n",
        "\n",
        "which_bin = np.digitize(X_train, bins = mybins)\n",
        "\n",
        "from sklearn.preprocessing import OneHotEncoder\n",
        "\n",
        "encoder = OneHotEncoder(sparse = False)\n",
        "\n",
        "encoder.fit(which_bin)\n",
        "\n",
        "X_bin = encoder.transform(which_bin)\n",
        "\n",
        "print(X_bin[:10])"
      ],
      "execution_count": 11,
      "outputs": [
        {
          "output_type": "stream",
          "text": [
            "[[0. 0. 0. 0. 0. 0. 1. 0. 0. 0.]\n",
            " [0. 0. 0. 1. 0. 0. 0. 0. 0. 0.]\n",
            " [0. 0. 0. 0. 1. 0. 0. 0. 0. 0.]\n",
            " [0. 0. 1. 0. 0. 0. 0. 0. 0. 0.]\n",
            " [0. 0. 0. 0. 0. 0. 0. 0. 0. 1.]\n",
            " [0. 1. 0. 0. 0. 0. 0. 0. 0. 0.]\n",
            " [0. 0. 0. 0. 0. 1. 0. 0. 0. 0.]\n",
            " [0. 0. 0. 0. 0. 1. 0. 0. 0. 0.]\n",
            " [0. 0. 0. 0. 0. 0. 0. 0. 0. 1.]\n",
            " [0. 1. 0. 0. 0. 0. 0. 0. 0. 0.]]\n"
          ],
          "name": "stdout"
        }
      ]
    },
    {
      "cell_type": "code",
      "metadata": {
        "colab": {
          "base_uri": "https://localhost:8080/",
          "height": 265
        },
        "id": "dPdJ10FmtST0",
        "outputId": "6797c034-eb01-4502-e2b3-3b1f4e17c0f4"
      },
      "source": [
        "reg_lr = LinearRegression().fit(X_train, y_train)\n",
        "reg_lr_bin = LinearRegression().fit(X_bin, y_train)\n",
        "\n",
        "plt.scatter(X_test, y_test, s=0.1)\n",
        "plt.plot(X_test, reg_lr.predict(X_test), color = \"green\")\n",
        "plt.show()"
      ],
      "execution_count": 12,
      "outputs": [
        {
          "output_type": "display_data",
          "data": {
            "image/png": "[encoded data removed]",
            "text/plain": [
              "<Figure size 432x288 with 1 Axes>"
            ]
          },
          "metadata": {
            "tags": [],
            "needs_background": "light"
          }
        }
      ]
    },
    {
      "cell_type": "code",
      "metadata": {
        "colab": {
          "base_uri": "https://localhost:8080/",
          "height": 265
        },
        "id": "q-XrJz0d9LYS",
        "outputId": "c9d24b3c-a958-4cd0-aae0-aad293ffef5b"
      },
      "source": [
        "new_bin = np.digitize(X_test, bins = mybins)\n",
        "encoder.fit(new_bin)\n",
        "X_test_bin = encoder.transform(new_bin)\n",
        "\n",
        "plt.scatter(X_test, y_test, s=0.1)\n",
        "plt.plot(X_test, reg_lr_bin.predict(X_test_bin), color = \"green\")\n",
        "plt.show()"
      ],
      "execution_count": 13,
      "outputs": [
        {
          "output_type": "display_data",
          "data": {
            "image/png": "[encoded data removed]",
            "text/plain": [
              "<Figure size 432x288 with 1 Axes>"
            ]
          },
          "metadata": {
            "tags": [],
            "needs_background": "light"
          }
        }
      ]
    },
    {
      "cell_type": "code",
      "metadata": {
        "id": "eIY3QOJVJXSy"
      },
      "source": [
        "X,y = fetch_california_housing(return_X_y = True)\n",
        "\n",
        "X_train, X_test, y_train, y_test = train_test_split(X, y, test_size = 0.1, random_state = 0)\n",
        "\n",
        "# polynomial is deprecated because of too much features on X"
      ],
      "execution_count": null,
      "outputs": []
    },
    {
      "cell_type": "code",
      "metadata": {
        "colab": {
          "base_uri": "https://localhost:8080/"
        },
        "id": "aHSwlBkuQtg9",
        "outputId": "c0b3bf7c-4286-42cf-c406-9908a331980d"
      },
      "source": [
        "from sklearn.preprocessing import StandardScaler\n",
        "\n",
        "scaler = StandardScaler()\n",
        "scaler.fit(X_train)\n",
        "X_train_scaled = scaler.transform(X_train)\n",
        "X_test_scaled = scaler.transform(X_test)\n",
        "\n",
        "scaler = StandardScaler()\n",
        "scaler.fit(X_train)\n",
        "\n",
        "from sklearn.linear_model import LogisticRegression\n",
        "clf = LogisticRegression()\n",
        "\n",
        "from sklearn.feature_selection import SelectKBest\n",
        "\n",
        "from sklearn.preprocessing import LabelEncoder\n",
        "lab_enc = LabelEncoder()\n",
        "encoded_train = lab_enc.fit_transform(y_train)\n",
        "encoded_test = lab_enc.fit_transform(y_test)\n",
        "\n",
        "y_train.max(), y_train.min()"
      ],
      "execution_count": 30,
      "outputs": [
        {
          "output_type": "execute_result",
          "data": {
            "text/plain": [
              "(5.00001, 0.14999)"
            ]
          },
          "metadata": {
            "tags": []
          },
          "execution_count": 30
        }
      ]
    },
    {
      "cell_type": "code",
      "metadata": {
        "id": "xC0Sax-rQj_D",
        "colab": {
          "base_uri": "https://localhost:8080/"
        },
        "outputId": "e05a4594-046a-4c24-ac93-334d67531b41"
      },
      "source": [
        "clf.fit(X_train_scaled, encoded)\n",
        "\n",
        "from sklearn.metrics import accuracy_score\n",
        "y_train_hat = clf.predict(X_train_scaled)\n",
        "print('train accuracy : ', accuracy_score(encoded_train, y_train_hat))\n",
        "y_test_hat = clf.predict(X_test_scaled)\n",
        "print('test accuracy : ', accuracy_score(encoded_test, y_test_hat))\n"
      ],
      "execution_count": 31,
      "outputs": [
        {
          "output_type": "stream",
          "text": [
            "/usr/local/lib/python3.6/dist-packages/sklearn/linear_model/_logistic.py:940: ConvergenceWarning: lbfgs failed to converge (status=1):\n",
            "STOP: TOTAL NO. of ITERATIONS REACHED LIMIT.\n",
            "\n",
            "Increase the number of iterations (max_iter) or scale the data as shown in:\n",
            "    https://scikit-learn.org/stable/modules/preprocessing.html\n",
            "Please also refer to the documentation for alternative solver options:\n",
            "    https://scikit-learn.org/stable/modules/linear_model.html#logistic-regression\n",
            "  extra_warning_msg=_LOGISTIC_SOLVER_CONVERGENCE_MSG)\n"
          ],
          "name": "stderr"
        },
        {
          "output_type": "stream",
          "text": [
            "train accuracy :  0.05119509043927649\n",
            "test accuracy :  0.0\n"
          ],
          "name": "stdout"
        }
      ]
    },
    {
      "cell_type": "code",
      "metadata": {
        "id": "DkNTnzDfXQG3"
      },
      "source": [
        ""
      ],
      "execution_count": null,
      "outputs": []
    }
  ]
}