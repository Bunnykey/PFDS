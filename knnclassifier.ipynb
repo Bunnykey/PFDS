{
  "nbformat": 4,
  "nbformat_minor": 0,
  "metadata": {
    "colab": {
      "name": "knnclassifier.ipynb",
      "provenance": [],
      "authorship_tag": "ABX9TyOHBQRyQdXvibgEaS8V+7sU",
      "include_colab_link": true
    },
    "kernelspec": {
      "name": "python3",
      "display_name": "Python 3"
    }
  },
  "cells": [
    {
      "cell_type": "markdown",
      "metadata": {
        "id": "view-in-github",
        "colab_type": "text"
      },
      "source": [
        "<a href=\"https://colab.research.google.com/github/Bunnykey/PFDS/blob/master/knnclassifier.ipynb\" target=\"_parent\"><img src=\"https://colab.research.google.com/assets/colab-badge.svg\" alt=\"Open In Colab\"/></a>"
      ]
    },
    {
      "cell_type": "code",
      "metadata": {
        "id": "zhMVZtDrcb-n",
        "outputId": "ceed115f-8de3-4bc0-c39a-fa060499a1eb",
        "colab": {
          "base_uri": "https://localhost:8080/",
          "height": 179
        }
      },
      "source": [
        "import matplotlib.pyplot as plt\n",
        "from sklearn.datasets import load_wine\n",
        "from sklearn.model_selection import train_test_split\n",
        "\n",
        "#data load\n",
        "wine = load_wine()\n",
        "wine.keys()\n",
        "wine.target"
      ],
      "execution_count": null,
      "outputs": [
        {
          "output_type": "execute_result",
          "data": {
            "text/plain": [
              "array([0, 0, 0, 0, 0, 0, 0, 0, 0, 0, 0, 0, 0, 0, 0, 0, 0, 0, 0, 0, 0, 0,\n",
              "       0, 0, 0, 0, 0, 0, 0, 0, 0, 0, 0, 0, 0, 0, 0, 0, 0, 0, 0, 0, 0, 0,\n",
              "       0, 0, 0, 0, 0, 0, 0, 0, 0, 0, 0, 0, 0, 0, 0, 1, 1, 1, 1, 1, 1, 1,\n",
              "       1, 1, 1, 1, 1, 1, 1, 1, 1, 1, 1, 1, 1, 1, 1, 1, 1, 1, 1, 1, 1, 1,\n",
              "       1, 1, 1, 1, 1, 1, 1, 1, 1, 1, 1, 1, 1, 1, 1, 1, 1, 1, 1, 1, 1, 1,\n",
              "       1, 1, 1, 1, 1, 1, 1, 1, 1, 1, 1, 1, 1, 1, 1, 1, 1, 1, 1, 1, 2, 2,\n",
              "       2, 2, 2, 2, 2, 2, 2, 2, 2, 2, 2, 2, 2, 2, 2, 2, 2, 2, 2, 2, 2, 2,\n",
              "       2, 2, 2, 2, 2, 2, 2, 2, 2, 2, 2, 2, 2, 2, 2, 2, 2, 2, 2, 2, 2, 2,\n",
              "       2, 2])"
            ]
          },
          "metadata": {
            "tags": []
          },
          "execution_count": 25
        }
      ]
    },
    {
      "cell_type": "code",
      "metadata": {
        "id": "C1XRgK7MBF53"
      },
      "source": [
        "#data split\n",
        "X,y = load_wine(return_X_y = True)\n",
        "X_train, X_test, y_train, y_test = train_test_split(X,y, test_size = 0.3, train_size = 0.7, random_state = 42, shuffle = True)\n",
        "X_train, X_test, y_train, y_test"
      ],
      "execution_count": null,
      "outputs": []
    },
    {
      "cell_type": "code",
      "metadata": {
        "id": "L8hFX8Q_CuJU",
        "outputId": "45fae903-8b21-44df-c40b-82e6d6f220eb",
        "colab": {
          "base_uri": "https://localhost:8080/",
          "height": 187
        }
      },
      "source": [
        "#data preprocessing\n",
        "from sklearn.preprocessing import StandardScaler\n",
        "from sklearn.preprocessing import MinMaxScaler\n",
        "from sklearn.preprocessing import Normalizer\n",
        "from sklearn.preprocessing import RobustScaler\n",
        "scaler = sklearn.preprocessing.StandardScaler()\n",
        "from sklearn.neighbors import KNeighborsClassifier\n",
        "from sklearn.pipeline import Pipeline\n",
        "\n",
        "stdModel = Pipeline([\n",
        "('scaler', StandardScaler()),\n",
        "('classifier', KNeighborsClassifier(n_neighbors = 3)),\n",
        "])\n",
        "\n",
        "robustModel = Pipeline([\n",
        "('scaler', RobustScaler()),\n",
        "('classifier', KNeighborsClassifier(n_neighbors = 3)),\n",
        "])\n",
        "\n",
        "minmaxModel = Pipeline([\n",
        "('scaler', MinMaxScaler()),\n",
        "('classifier', KNeighborsClassifier(n_neighbors = 3)),\n",
        "])\n",
        "\n",
        "normalModel = Pipeline([\n",
        "('scaler', Normalizer()),\n",
        "('classifier', KNeighborsClassifier(n_neighbors = 3)),\n",
        "])\n",
        "\n",
        "clf = model.fit(X_train, y_train)\n",
        "clf"
      ],
      "execution_count": null,
      "outputs": [
        {
          "output_type": "execute_result",
          "data": {
            "text/plain": [
              "Pipeline(memory=None,\n",
              "         steps=[('scaler',\n",
              "                 RobustScaler(copy=True, quantile_range=(25.0, 75.0),\n",
              "                              with_centering=True, with_scaling=True)),\n",
              "                ('classifier',\n",
              "                 KNeighborsClassifier(algorithm='auto', leaf_size=30,\n",
              "                                      metric='minkowski', metric_params=None,\n",
              "                                      n_jobs=None, n_neighbors=3, p=2,\n",
              "                                      weights='uniform'))],\n",
              "         verbose=False)"
            ]
          },
          "metadata": {
            "tags": []
          },
          "execution_count": 39
        }
      ]
    },
    {
      "cell_type": "code",
      "metadata": {
        "id": "-vUBRvN_DiuP",
        "outputId": "08efc356-0692-44fd-e8e5-f0e37f4a312f",
        "colab": {
          "base_uri": "https://localhost:8080/",
          "height": 51
        }
      },
      "source": [
        "from sklearn.metrics import accuracy_score\n",
        "y_train_hat = clf.predict(X_train)\n",
        "print('train accuracy :', accuracy_score(y_train, y_train_hat))\n",
        "y_test_hat = clf.predict(X_test)\n",
        "print('test accuracy :', accuracy_score(y_test, y_test_hat))"
      ],
      "execution_count": null,
      "outputs": [
        {
          "output_type": "stream",
          "text": [
            "train accuracy : 0.9435483870967742\n",
            "test accuracy : 0.9629629629629629\n"
          ],
          "name": "stdout"
        }
      ]
    },
    {
      "cell_type": "code",
      "metadata": {
        "id": "sTnSlTykEXu8"
      },
      "source": [
        ""
      ],
      "execution_count": null,
      "outputs": []
    }
  ]
}