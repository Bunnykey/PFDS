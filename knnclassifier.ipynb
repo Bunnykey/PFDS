{
  "nbformat": 4,
  "nbformat_minor": 0,
  "metadata": {
    "colab": {
      "name": "knnclassifier.ipynb",
      "provenance": [],
      "authorship_tag": "ABX9TyPkX+ADjXiUGFzCeuxKr0+U",
      "include_colab_link": true
    },
    "kernelspec": {
      "name": "python3",
      "display_name": "Python 3"
    }
  },
  "cells": [
    {
      "cell_type": "markdown",
      "metadata": {
        "id": "view-in-github",
        "colab_type": "text"
      },
      "source": [
        "<a href=\"https://colab.research.google.com/github/Bunnykey/PFDS/blob/master/knnclassifier.ipynb\" target=\"_parent\"><img src=\"https://colab.research.google.com/assets/colab-badge.svg\" alt=\"Open In Colab\"/></a>"
      ]
    },
    {
      "cell_type": "code",
      "metadata": {
        "id": "zhMVZtDrcb-n",
        "outputId": "f408a82a-b136-4269-f7b2-cb923514a345",
        "colab": {
          "base_uri": "https://localhost:8080/",
          "height": 413
        }
      },
      "source": [
        "import numpy as np\n",
        "import pandas as pd\n",
        "import matplotlib.pyplot as plt\n",
        "from sklearn.datasets import load_wine\n",
        "from sklearn.model_selection import train_test_split\n",
        "\n",
        "#data load\n",
        "wine = load_wine()\n",
        "df = pd.DataFrame(data= np.c_[wine['data'], wine['target']],\n",
        "                     columns= wine['feature_names'] + ['target'])\n",
        "\n",
        "wine.feature_names, wine.target"
      ],
      "execution_count": 1,
      "outputs": [
        {
          "output_type": "execute_result",
          "data": {
            "text/plain": [
              "(['alcohol',\n",
              "  'malic_acid',\n",
              "  'ash',\n",
              "  'alcalinity_of_ash',\n",
              "  'magnesium',\n",
              "  'total_phenols',\n",
              "  'flavanoids',\n",
              "  'nonflavanoid_phenols',\n",
              "  'proanthocyanins',\n",
              "  'color_intensity',\n",
              "  'hue',\n",
              "  'od280/od315_of_diluted_wines',\n",
              "  'proline'],\n",
              " array([0, 0, 0, 0, 0, 0, 0, 0, 0, 0, 0, 0, 0, 0, 0, 0, 0, 0, 0, 0, 0, 0,\n",
              "        0, 0, 0, 0, 0, 0, 0, 0, 0, 0, 0, 0, 0, 0, 0, 0, 0, 0, 0, 0, 0, 0,\n",
              "        0, 0, 0, 0, 0, 0, 0, 0, 0, 0, 0, 0, 0, 0, 0, 1, 1, 1, 1, 1, 1, 1,\n",
              "        1, 1, 1, 1, 1, 1, 1, 1, 1, 1, 1, 1, 1, 1, 1, 1, 1, 1, 1, 1, 1, 1,\n",
              "        1, 1, 1, 1, 1, 1, 1, 1, 1, 1, 1, 1, 1, 1, 1, 1, 1, 1, 1, 1, 1, 1,\n",
              "        1, 1, 1, 1, 1, 1, 1, 1, 1, 1, 1, 1, 1, 1, 1, 1, 1, 1, 1, 1, 2, 2,\n",
              "        2, 2, 2, 2, 2, 2, 2, 2, 2, 2, 2, 2, 2, 2, 2, 2, 2, 2, 2, 2, 2, 2,\n",
              "        2, 2, 2, 2, 2, 2, 2, 2, 2, 2, 2, 2, 2, 2, 2, 2, 2, 2, 2, 2, 2, 2,\n",
              "        2, 2]))"
            ]
          },
          "metadata": {
            "tags": []
          },
          "execution_count": 1
        }
      ]
    },
    {
      "cell_type": "code",
      "metadata": {
        "id": "63UPZLqHiSNT",
        "outputId": "db4d34f2-a1b8-4f92-a149-90d1a5798b26",
        "colab": {
          "base_uri": "https://localhost:8080/",
          "height": 204
        }
      },
      "source": [
        "df.head() #pandas dataframe"
      ],
      "execution_count": 2,
      "outputs": [
        {
          "output_type": "execute_result",
          "data": {
            "text/html": [
              "<div>\n",
              "<style scoped>\n",
              "    .dataframe tbody tr th:only-of-type {\n",
              "        vertical-align: middle;\n",
              "    }\n",
              "\n",
              "    .dataframe tbody tr th {\n",
              "        vertical-align: top;\n",
              "    }\n",
              "\n",
              "    .dataframe thead th {\n",
              "        text-align: right;\n",
              "    }\n",
              "</style>\n",
              "<table border=\"1\" class=\"dataframe\">\n",
              "  <thead>\n",
              "    <tr style=\"text-align: right;\">\n",
              "      <th></th>\n",
              "      <th>alcohol</th>\n",
              "      <th>malic_acid</th>\n",
              "      <th>ash</th>\n",
              "      <th>alcalinity_of_ash</th>\n",
              "      <th>magnesium</th>\n",
              "      <th>total_phenols</th>\n",
              "      <th>flavanoids</th>\n",
              "      <th>nonflavanoid_phenols</th>\n",
              "      <th>proanthocyanins</th>\n",
              "      <th>color_intensity</th>\n",
              "      <th>hue</th>\n",
              "      <th>od280/od315_of_diluted_wines</th>\n",
              "      <th>proline</th>\n",
              "      <th>target</th>\n",
              "    </tr>\n",
              "  </thead>\n",
              "  <tbody>\n",
              "    <tr>\n",
              "      <th>0</th>\n",
              "      <td>14.23</td>\n",
              "      <td>1.71</td>\n",
              "      <td>2.43</td>\n",
              "      <td>15.6</td>\n",
              "      <td>127.0</td>\n",
              "      <td>2.80</td>\n",
              "      <td>3.06</td>\n",
              "      <td>0.28</td>\n",
              "      <td>2.29</td>\n",
              "      <td>5.64</td>\n",
              "      <td>1.04</td>\n",
              "      <td>3.92</td>\n",
              "      <td>1065.0</td>\n",
              "      <td>0.0</td>\n",
              "    </tr>\n",
              "    <tr>\n",
              "      <th>1</th>\n",
              "      <td>13.20</td>\n",
              "      <td>1.78</td>\n",
              "      <td>2.14</td>\n",
              "      <td>11.2</td>\n",
              "      <td>100.0</td>\n",
              "      <td>2.65</td>\n",
              "      <td>2.76</td>\n",
              "      <td>0.26</td>\n",
              "      <td>1.28</td>\n",
              "      <td>4.38</td>\n",
              "      <td>1.05</td>\n",
              "      <td>3.40</td>\n",
              "      <td>1050.0</td>\n",
              "      <td>0.0</td>\n",
              "    </tr>\n",
              "    <tr>\n",
              "      <th>2</th>\n",
              "      <td>13.16</td>\n",
              "      <td>2.36</td>\n",
              "      <td>2.67</td>\n",
              "      <td>18.6</td>\n",
              "      <td>101.0</td>\n",
              "      <td>2.80</td>\n",
              "      <td>3.24</td>\n",
              "      <td>0.30</td>\n",
              "      <td>2.81</td>\n",
              "      <td>5.68</td>\n",
              "      <td>1.03</td>\n",
              "      <td>3.17</td>\n",
              "      <td>1185.0</td>\n",
              "      <td>0.0</td>\n",
              "    </tr>\n",
              "    <tr>\n",
              "      <th>3</th>\n",
              "      <td>14.37</td>\n",
              "      <td>1.95</td>\n",
              "      <td>2.50</td>\n",
              "      <td>16.8</td>\n",
              "      <td>113.0</td>\n",
              "      <td>3.85</td>\n",
              "      <td>3.49</td>\n",
              "      <td>0.24</td>\n",
              "      <td>2.18</td>\n",
              "      <td>7.80</td>\n",
              "      <td>0.86</td>\n",
              "      <td>3.45</td>\n",
              "      <td>1480.0</td>\n",
              "      <td>0.0</td>\n",
              "    </tr>\n",
              "    <tr>\n",
              "      <th>4</th>\n",
              "      <td>13.24</td>\n",
              "      <td>2.59</td>\n",
              "      <td>2.87</td>\n",
              "      <td>21.0</td>\n",
              "      <td>118.0</td>\n",
              "      <td>2.80</td>\n",
              "      <td>2.69</td>\n",
              "      <td>0.39</td>\n",
              "      <td>1.82</td>\n",
              "      <td>4.32</td>\n",
              "      <td>1.04</td>\n",
              "      <td>2.93</td>\n",
              "      <td>735.0</td>\n",
              "      <td>0.0</td>\n",
              "    </tr>\n",
              "  </tbody>\n",
              "</table>\n",
              "</div>"
            ],
            "text/plain": [
              "   alcohol  malic_acid   ash  ...  od280/od315_of_diluted_wines  proline  target\n",
              "0    14.23        1.71  2.43  ...                          3.92   1065.0     0.0\n",
              "1    13.20        1.78  2.14  ...                          3.40   1050.0     0.0\n",
              "2    13.16        2.36  2.67  ...                          3.17   1185.0     0.0\n",
              "3    14.37        1.95  2.50  ...                          3.45   1480.0     0.0\n",
              "4    13.24        2.59  2.87  ...                          2.93    735.0     0.0\n",
              "\n",
              "[5 rows x 14 columns]"
            ]
          },
          "metadata": {
            "tags": []
          },
          "execution_count": 2
        }
      ]
    },
    {
      "cell_type": "code",
      "metadata": {
        "id": "C1XRgK7MBF53"
      },
      "source": [
        "#data split\n",
        "X,y = load_wine(return_X_y = True)\n",
        "\n",
        "# \"The answer to life, the universe, and everything is 42.\" - The Hitchiker's Guide to the Galaxy\n",
        "X_train, X_test, y_train, y_test = train_test_split(X,y, test_size = 0.3, train_size = 0.7,\n",
        "                                                    random_state = 42, shuffle = True)"
      ],
      "execution_count": 3,
      "outputs": []
    },
    {
      "cell_type": "code",
      "metadata": {
        "id": "L8hFX8Q_CuJU"
      },
      "source": [
        "#data preprocessing\n",
        "from sklearn.preprocessing import StandardScaler\n",
        "from sklearn.preprocessing import MinMaxScaler\n",
        "from sklearn.preprocessing import Normalizer\n",
        "from sklearn.preprocessing import RobustScaler\n",
        "from sklearn.neighbors import KNeighborsClassifier\n",
        "from sklearn.pipeline import Pipeline\n",
        "\n",
        "stdModel = Pipeline([\n",
        "('scaler', StandardScaler()),\n",
        "('classifier', KNeighborsClassifier(n_neighbors = 3)),\n",
        "])\n",
        "\n",
        "robustModel = Pipeline([\n",
        "('scaler', RobustScaler()),\n",
        "('classifier', KNeighborsClassifier(n_neighbors = 3)),\n",
        "])\n",
        "\n",
        "minmaxModel = Pipeline([\n",
        "('scaler', MinMaxScaler()),\n",
        "('classifier', KNeighborsClassifier(n_neighbors = 3)),\n",
        "])\n",
        "\n",
        "normalModel = Pipeline([\n",
        "('scaler', Normalizer()),\n",
        "('classifier', KNeighborsClassifier(n_neighbors = 3)),\n",
        "])\n",
        "\n",
        "stdClf = stdModel.fit(X_train, y_train)\n",
        "robustClf = robustModel.fit(X_train, y_train)\n",
        "minmaxClf = minmaxModel.fit(X_train, y_train)\n",
        "normalClf = normalModel.fit(X_train, y_train)"
      ],
      "execution_count": 4,
      "outputs": []
    },
    {
      "cell_type": "code",
      "metadata": {
        "id": "-vUBRvN_DiuP",
        "outputId": "496b9f26-901b-44b8-bbab-6b3aa15ef584",
        "colab": {
          "base_uri": "https://localhost:8080/",
          "height": 161
        }
      },
      "source": [
        "from sklearn.metrics import accuracy_score\n",
        "y_train_hat1 = stdClf.predict(X_train)\n",
        "print('std train accuracy :', accuracy_score(y_train, y_train_hat1))\n",
        "y_test_hat1 = stdClf.predict(X_test)\n",
        "print('std test accuracy :', accuracy_score(y_test, y_test_hat1))\n",
        "\n",
        "y_train_hat2 = robustClf.predict(X_train)\n",
        "print('robust train accuracy :', accuracy_score(y_train, y_train_hat2))\n",
        "y_test_hat2 = robustClf.predict(X_test)\n",
        "print('robust test accuracy :', accuracy_score(y_test, y_test_hat2))\n",
        "\n",
        "y_train_hat3 = minmaxClf.predict(X_train)\n",
        "print('minmax train accuracy :', accuracy_score(y_train, y_train_hat3))\n",
        "y_test_hat3 = minmaxClf.predict(X_test)\n",
        "print('minmax test accuracy :', accuracy_score(y_test, y_test_hat3))\n",
        "\n",
        "y_train_hat4 = normalClf.predict(X_train)\n",
        "print('normal train accuracy :', accuracy_score(y_train, y_train_hat4))\n",
        "y_test_hat4 = normalClf.predict(X_test)\n",
        "print('normal test accuracy :', accuracy_score(y_test, y_test_hat4))"
      ],
      "execution_count": 5,
      "outputs": [
        {
          "output_type": "stream",
          "text": [
            "std train accuracy : 0.9516129032258065\n",
            "std test accuracy : 0.9629629629629629\n",
            "robust train accuracy : 0.9435483870967742\n",
            "robust test accuracy : 0.9629629629629629\n",
            "minmax train accuracy : 0.967741935483871\n",
            "minmax test accuracy : 0.9629629629629629\n",
            "normal train accuracy : 0.8790322580645161\n",
            "normal test accuracy : 0.7777777777777778\n"
          ],
          "name": "stdout"
        }
      ]
    },
    {
      "cell_type": "code",
      "metadata": {
        "id": "qSeYsZsrRv_C",
        "outputId": "2ff41471-36f9-49e7-b9f4-56492d9f6918",
        "colab": {
          "base_uri": "https://localhost:8080/",
          "height": 297
        }
      },
      "source": [
        "# visualization\n",
        "labels = ['stdscl', 'robust', 'minmax', 'normal']\n",
        "x = np.arange(len(labels))\n",
        "width = 0.35\n",
        "trainHatList = [y_train_hat1, y_train_hat2, y_train_hat3, y_train_hat4]\n",
        "testHatList = [y_test_hat1, y_test_hat2, y_test_hat3, y_test_hat4]\n",
        "\n",
        "trainScores = []\n",
        "testScores = []\n",
        "for i in trainHatList:\n",
        "  trainScores.append(accuracy_score(y_train,i))\n",
        "for i in testHatList:\n",
        "  testScores.append(accuracy_score(y_test,i))\n",
        "\n",
        "fig, ax = plt.subplots()\n",
        "rects1 = ax.bar(x - width/2, trainScores, width, label='train')\n",
        "rects2 = ax.bar(x + width/2, testScores, width, label='test')\n",
        "\n",
        "ax.set_ylim(0.7,1.0)\n",
        "ax.set_ylabel('Accuracy')\n",
        "ax.set_title('Accuracy by Scaling Methods')\n",
        "ax.set_xticks(x)\n",
        "ax.set_xticklabels(labels)\n",
        "ax.legend()\n",
        "\n",
        "def autolabel(rects):\n",
        "    for rect in rects:\n",
        "        height = rect.get_height()\n",
        "        pyheight = round(height,3)\n",
        "        ax.annotate('{}'.format(pyheight),\n",
        "                    xy=(rect.get_x() + rect.get_width() / 2, height),\n",
        "                    xytext=(0, 3),  # 3 points vertical offset\n",
        "                    textcoords=\"offset points\",\n",
        "                    ha='center', va='bottom')\n",
        "\n",
        "autolabel(rects1)\n",
        "autolabel(rects2)\n",
        "fig.tight_layout()\n",
        "plt.show()"
      ],
      "execution_count": 6,
      "outputs": [
        {
          "output_type": "display_data",
          "data": {
            "image/png": "[encoded data removed]",
            "text/plain": [
              "<Figure size 432x288 with 1 Axes>"
            ]
          },
          "metadata": {
            "tags": [],
            "needs_background": "light"
          }
        }
      ]
    },
    {
      "cell_type": "code",
      "metadata": {
        "id": "hqrEsCA9b4Xd",
        "outputId": "292f302a-013d-4ea1-ebca-f5a22a395e8e",
        "colab": {
          "base_uri": "https://localhost:8080/",
          "height": 305
        }
      },
      "source": [
        "# applied minMAXScaler\n",
        "# hyperParameters\n",
        "neighborSet = range(2,10)\n",
        "trainAcc = []\n",
        "testAcc = []\n",
        "\n",
        "for n in neighborSet:\n",
        "  minmaxModel = Pipeline([\n",
        "  ('scaler', MinMaxScaler()),\n",
        "  ('classifier', KNeighborsClassifier(n_neighbors = n, metric = 'minkowski')), \n",
        "  ]) # normed vector space Euclidean Distance?\n",
        "  minmaxClf = minmaxModel.fit(X_train, y_train)\n",
        "  y_train_hat3 = minmaxClf.predict(X_train)\n",
        "  print('minmax train accuracy :', accuracy_score(y_train, y_train_hat3))\n",
        "  trainAcc.append(accuracy_score(y_train, y_train_hat3))\n",
        "  y_test_hat3 = minmaxClf.predict(X_test)\n",
        "  print('minmax test accuracy :', accuracy_score(y_test, y_test_hat3))\n",
        "  testAcc.append(accuracy_score(y_test, y_test_hat3))"
      ],
      "execution_count": 7,
      "outputs": [
        {
          "output_type": "stream",
          "text": [
            "minmax train accuracy : 0.967741935483871\n",
            "minmax test accuracy : 0.9444444444444444\n",
            "minmax train accuracy : 0.967741935483871\n",
            "minmax test accuracy : 0.9629629629629629\n",
            "minmax train accuracy : 0.967741935483871\n",
            "minmax test accuracy : 0.9629629629629629\n",
            "minmax train accuracy : 0.9838709677419355\n",
            "minmax test accuracy : 0.9444444444444444\n",
            "minmax train accuracy : 0.9758064516129032\n",
            "minmax test accuracy : 0.9629629629629629\n",
            "minmax train accuracy : 0.967741935483871\n",
            "minmax test accuracy : 0.9629629629629629\n",
            "minmax train accuracy : 0.967741935483871\n",
            "minmax test accuracy : 0.9629629629629629\n",
            "minmax train accuracy : 0.967741935483871\n",
            "minmax test accuracy : 0.9814814814814815\n"
          ],
          "name": "stdout"
        }
      ]
    },
    {
      "cell_type": "code",
      "metadata": {
        "id": "N0LxCFEskjT6",
        "outputId": "de70fae2-ec77-4a4e-cf80-87c044c97b67",
        "colab": {
          "base_uri": "https://localhost:8080/",
          "height": 279
        }
      },
      "source": [
        "fig, acc_ax = plt.subplots()\n",
        "acc_ax.plot(neighborSet, trainAcc, color ='tab:blue', label = 'train acc')\n",
        "acc_ax.plot(neighborSet, testAcc, color ='tab:orange', label = 'test acc')\n",
        "acc_ax.set_ylabel('accuracy')\n",
        "acc_ax.set_xlabel('number of neighbors')\n",
        "acc_ax.legend()\n",
        "plt.show()"
      ],
      "execution_count": 8,
      "outputs": [
        {
          "output_type": "display_data",
          "data": {
            "image/png": "[encoded data removed]",
            "text/plain": [
              "<Figure size 432x288 with 1 Axes>"
            ]
          },
          "metadata": {
            "tags": [],
            "needs_background": "light"
          }
        }
      ]
    }
  ]
}