{
  "nbformat": 4,
  "nbformat_minor": 0,
  "metadata": {
    "colab": {
      "name": "knnclassifier.ipynb",
      "provenance": [],
      "authorship_tag": "ABX9TyOT0Yo4bIbkRrscepueXxe7",
      "include_colab_link": true
    },
    "kernelspec": {
      "name": "python3",
      "display_name": "Python 3"
    }
  },
  "cells": [
    {
      "cell_type": "markdown",
      "metadata": {
        "id": "view-in-github",
        "colab_type": "text"
      },
      "source": [
        "<a href=\"https://colab.research.google.com/github/Bunnykey/PFDS/blob/master/knnclassifier.ipynb\" target=\"_parent\"><img src=\"https://colab.research.google.com/assets/colab-badge.svg\" alt=\"Open In Colab\"/></a>"
      ]
    },
    {
      "cell_type": "code",
      "metadata": {
        "id": "zhMVZtDrcb-n"
      },
      "source": [
        "import numpy as np\n",
        "import matplotlib.pyplot as plt\n",
        "from sklearn.datasets import load_wine\n",
        "from sklearn.model_selection import train_test_split\n",
        "\n",
        "#data load\n",
        "wine = load_wine()\n",
        "wine.feature_names, wine.target"
      ],
      "execution_count": null,
      "outputs": []
    },
    {
      "cell_type": "code",
      "metadata": {
        "id": "C1XRgK7MBF53"
      },
      "source": [
        "#data split\n",
        "X,y = load_wine(return_X_y = True)\n",
        "X_train, X_test, y_train, y_test = train_test_split(X,y, test_size = 0.3, train_size = 0.7, random_state = 42, shuffle = True)\n",
        "X_train, X_test, y_train, y_test"
      ],
      "execution_count": null,
      "outputs": []
    },
    {
      "cell_type": "code",
      "metadata": {
        "id": "L8hFX8Q_CuJU"
      },
      "source": [
        "#data preprocessing\n",
        "from sklearn.preprocessing import StandardScaler\n",
        "from sklearn.preprocessing import MinMaxScaler\n",
        "from sklearn.preprocessing import Normalizer\n",
        "from sklearn.preprocessing import RobustScaler\n",
        "from sklearn.neighbors import KNeighborsClassifier\n",
        "from sklearn.pipeline import Pipeline\n",
        "\n",
        "stdModel = Pipeline([\n",
        "('scaler', StandardScaler()),\n",
        "('classifier', KNeighborsClassifier(n_neighbors = 3)),\n",
        "])\n",
        "\n",
        "robustModel = Pipeline([\n",
        "('scaler', RobustScaler()),\n",
        "('classifier', KNeighborsClassifier(n_neighbors = 3)),\n",
        "])\n",
        "\n",
        "minmaxModel = Pipeline([\n",
        "('scaler', MinMaxScaler()),\n",
        "('classifier', KNeighborsClassifier(n_neighbors = 3)),\n",
        "])\n",
        "\n",
        "normalModel = Pipeline([\n",
        "('scaler', Normalizer()),\n",
        "('classifier', KNeighborsClassifier(n_neighbors = 3)),\n",
        "])\n",
        "\n",
        "stdClf = stdModel.fit(X_train, y_train)\n",
        "robustClf = robustModel.fit(X_train, y_train)\n",
        "minmaxClf = minmaxModel.fit(X_train, y_train)\n",
        "normalClf = normalModel.fit(X_train, y_train)"
      ],
      "execution_count": null,
      "outputs": []
    },
    {
      "cell_type": "code",
      "metadata": {
        "id": "-vUBRvN_DiuP"
      },
      "source": [
        "from sklearn.metrics import accuracy_score\n",
        "y_train_hat1 = stdClf.predict(X_train)\n",
        "print('std train accuracy :', accuracy_score(y_train, y_train_hat1))\n",
        "y_test_hat1 = stdClf.predict(X_test)\n",
        "print('std test accuracy :', accuracy_score(y_test, y_test_hat1))\n",
        "\n",
        "y_train_hat2 = robustClf.predict(X_train)\n",
        "print('robust train accuracy :', accuracy_score(y_train, y_train_hat2))\n",
        "y_test_hat2 = robustClf.predict(X_test)\n",
        "print('robust test accuracy :', accuracy_score(y_test, y_test_hat2))\n",
        "\n",
        "y_train_hat3 = minmaxClf.predict(X_train)\n",
        "print('minmax train accuracy :', accuracy_score(y_train, y_train_hat3))\n",
        "y_test_hat3 = minmaxClf.predict(X_test)\n",
        "print('minmax test accuracy :', accuracy_score(y_test, y_test_hat3))\n",
        "\n",
        "y_train_hat4 = normalClf.predict(X_train)\n",
        "print('normal train accuracy :', accuracy_score(y_train, y_train_hat4))\n",
        "y_test_hat4 = normalClf.predict(X_test)\n",
        "print('normal test accuracy :', accuracy_score(y_test, y_test_hat4))"
      ],
      "execution_count": null,
      "outputs": []
    },
    {
      "cell_type": "code",
      "metadata": {
        "id": "qSeYsZsrRv_C"
      },
      "source": [
        "labels = ['stdscl', 'robust', 'minmax', 'normal']\n",
        "x = np.arange(len(labels))\n",
        "width = 0.35\n",
        "trainHatList = [y_train_hat1, y_train_hat2, y_train_hat3, y_train_hat4]\n",
        "testHatList = [y_test_hat1, y_test_hat2, y_test_hat3, y_test_hat4]\n",
        "\n",
        "trainScores = []\n",
        "testScores = []\n",
        "for i in trainHatList:\n",
        "  trainScores.append(accuracy_score(y_train,i))\n",
        "for i in testHatList:\n",
        "  testScores.append(accuracy_score(y_test,i))\n",
        "\n",
        "fig, ax = plt.subplots()\n",
        "rects1 = ax.bar(x - width/2, trainScores, width, label='train')\n",
        "rects2 = ax.bar(x + width/2, testScores, width, label='test')\n",
        "\n",
        "ax.set_ylim(0.7,1.0)\n",
        "ax.set_ylabel('Accuracy')\n",
        "ax.set_title('Accuracy by Scaling Methods')\n",
        "ax.set_xticks(x)\n",
        "ax.set_xticklabels(labels)\n",
        "ax.legend()\n",
        "\n",
        "def autolabel(rects):\n",
        "    for rect in rects:\n",
        "        height = rect.get_height()\n",
        "        ax.annotate(' ',\n",
        "                    xy=(rect.get_x() + rect.get_width() / 2, height),\n",
        "                    xytext=(0, 3),  # 3 points vertical offset\n",
        "                    textcoords=\"offset points\",\n",
        "                    ha='center', va='bottom')\n",
        "\n",
        "autolabel(rects1)\n",
        "autolabel(rects2)\n",
        "\n",
        "fig.tight_layout()\n",
        "plt.show()\n",
        "    "
      ],
      "execution_count": null,
      "outputs": []
    }
  ]
}